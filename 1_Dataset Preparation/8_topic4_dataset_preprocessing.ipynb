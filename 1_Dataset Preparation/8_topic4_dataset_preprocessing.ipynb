{
 "cells": [
  {
   "cell_type": "markdown",
   "metadata": {},
   "source": [
    "### 8. Preprocess topic4 dataset"
   ]
  },
  {
   "cell_type": "code",
   "execution_count": null,
   "metadata": {
    "id": "F7NRfXhBiyi9"
   },
   "outputs": [],
   "source": [
    "import torch\n",
    "import pandas as pd\n",
    "import numpy as np\n",
    "import time\n",
    "start_time = time.time()"
   ]
  },
  {
   "cell_type": "code",
   "execution_count": null,
   "metadata": {
    "colab": {
     "base_uri": "https://localhost:8080/"
    },
    "id": "nt2qzSsIWaLK",
    "outputId": "87dff9e0-1f90-4d5d-e4e9-6dc12dae344c"
   },
   "outputs": [
    {
     "name": "stderr",
     "output_type": "stream",
     "text": [
      "[nltk_data] Downloading package punkt to /root/nltk_data...\n",
      "[nltk_data]   Package punkt is already up-to-date!\n",
      "[nltk_data] Downloading package stopwords to /root/nltk_data...\n",
      "[nltk_data]   Package stopwords is already up-to-date!\n"
     ]
    },
    {
     "data": {
      "text/plain": [
       "True"
      ]
     },
     "execution_count": 26,
     "metadata": {},
     "output_type": "execute_result"
    }
   ],
   "source": [
    "import nltk\n",
    "nltk.download('punkt')\n",
    "nltk.download('stopwords')"
   ]
  },
  {
   "cell_type": "code",
   "execution_count": null,
   "metadata": {
    "id": "GwEQnjZmi4Xl"
   },
   "outputs": [],
   "source": [
    "data = pd.read_csv(\"topic4_sent_corpus.csv\",encoding=\"latin1\" )"
   ]
  },
  {
   "cell_type": "code",
   "execution_count": null,
   "metadata": {
    "id": "G7oWY3SEy7CK"
   },
   "outputs": [],
   "source": [
    "data.rename(columns = {'abstract_sents':'abstract_sents_raw'}, inplace = True)"
   ]
  },
  {
   "cell_type": "code",
   "execution_count": null,
   "metadata": {
    "colab": {
     "base_uri": "https://localhost:8080/",
     "height": 206
    },
    "id": "7_mlcPrQm_QW",
    "outputId": "b0a7b3b9-0f26-48e2-cf14-640f7ee7ab99"
   },
   "outputs": [
    {
     "data": {
      "text/html": [
       "\n",
       "  <div id=\"df-f33ca27b-cf84-41dc-9148-9f9ac5590d9d\">\n",
       "    <div class=\"colab-df-container\">\n",
       "      <div>\n",
       "<style scoped>\n",
       "    .dataframe tbody tr th:only-of-type {\n",
       "        vertical-align: middle;\n",
       "    }\n",
       "\n",
       "    .dataframe tbody tr th {\n",
       "        vertical-align: top;\n",
       "    }\n",
       "\n",
       "    .dataframe thead th {\n",
       "        text-align: right;\n",
       "    }\n",
       "</style>\n",
       "<table border=\"1\" class=\"dataframe\">\n",
       "  <thead>\n",
       "    <tr style=\"text-align: right;\">\n",
       "      <th></th>\n",
       "      <th>Unnamed: 0</th>\n",
       "      <th>doc_id</th>\n",
       "      <th>sent_id</th>\n",
       "      <th>abstract_sents_raw</th>\n",
       "    </tr>\n",
       "  </thead>\n",
       "  <tbody>\n",
       "    <tr>\n",
       "      <th>0</th>\n",
       "      <td>0</td>\n",
       "      <td>0</td>\n",
       "      <td>0</td>\n",
       "      <td>to report retinal vein occlusion (rvo) and age...</td>\n",
       "    </tr>\n",
       "    <tr>\n",
       "      <th>1</th>\n",
       "      <td>1</td>\n",
       "      <td>0</td>\n",
       "      <td>1</td>\n",
       "      <td>clinical data including fundus photographs and...</td>\n",
       "    </tr>\n",
       "    <tr>\n",
       "      <th>2</th>\n",
       "      <td>2</td>\n",
       "      <td>0</td>\n",
       "      <td>2</td>\n",
       "      <td>twenty-three eyes of 21 patients were included...</td>\n",
       "    </tr>\n",
       "    <tr>\n",
       "      <th>3</th>\n",
       "      <td>3</td>\n",
       "      <td>0</td>\n",
       "      <td>3</td>\n",
       "      <td>twelve eyes (52.2%) had submacular hemorrhage ...</td>\n",
       "    </tr>\n",
       "    <tr>\n",
       "      <th>4</th>\n",
       "      <td>4</td>\n",
       "      <td>0</td>\n",
       "      <td>4</td>\n",
       "      <td>twelve patients (60.9%) had been vaccinated wi...</td>\n",
       "    </tr>\n",
       "  </tbody>\n",
       "</table>\n",
       "</div>\n",
       "      <button class=\"colab-df-convert\" onclick=\"convertToInteractive('df-f33ca27b-cf84-41dc-9148-9f9ac5590d9d')\"\n",
       "              title=\"Convert this dataframe to an interactive table.\"\n",
       "              style=\"display:none;\">\n",
       "        \n",
       "  <svg xmlns=\"http://www.w3.org/2000/svg\" height=\"24px\"viewBox=\"0 0 24 24\"\n",
       "       width=\"24px\">\n",
       "    <path d=\"M0 0h24v24H0V0z\" fill=\"none\"/>\n",
       "    <path d=\"M18.56 5.44l.94 2.06.94-2.06 2.06-.94-2.06-.94-.94-2.06-.94 2.06-2.06.94zm-11 1L8.5 8.5l.94-2.06 2.06-.94-2.06-.94L8.5 2.5l-.94 2.06-2.06.94zm10 10l.94 2.06.94-2.06 2.06-.94-2.06-.94-.94-2.06-.94 2.06-2.06.94z\"/><path d=\"M17.41 7.96l-1.37-1.37c-.4-.4-.92-.59-1.43-.59-.52 0-1.04.2-1.43.59L10.3 9.45l-7.72 7.72c-.78.78-.78 2.05 0 2.83L4 21.41c.39.39.9.59 1.41.59.51 0 1.02-.2 1.41-.59l7.78-7.78 2.81-2.81c.8-.78.8-2.07 0-2.86zM5.41 20L4 18.59l7.72-7.72 1.47 1.35L5.41 20z\"/>\n",
       "  </svg>\n",
       "      </button>\n",
       "      \n",
       "  <style>\n",
       "    .colab-df-container {\n",
       "      display:flex;\n",
       "      flex-wrap:wrap;\n",
       "      gap: 12px;\n",
       "    }\n",
       "\n",
       "    .colab-df-convert {\n",
       "      background-color: #E8F0FE;\n",
       "      border: none;\n",
       "      border-radius: 50%;\n",
       "      cursor: pointer;\n",
       "      display: none;\n",
       "      fill: #1967D2;\n",
       "      height: 32px;\n",
       "      padding: 0 0 0 0;\n",
       "      width: 32px;\n",
       "    }\n",
       "\n",
       "    .colab-df-convert:hover {\n",
       "      background-color: #E2EBFA;\n",
       "      box-shadow: 0px 1px 2px rgba(60, 64, 67, 0.3), 0px 1px 3px 1px rgba(60, 64, 67, 0.15);\n",
       "      fill: #174EA6;\n",
       "    }\n",
       "\n",
       "    [theme=dark] .colab-df-convert {\n",
       "      background-color: #3B4455;\n",
       "      fill: #D2E3FC;\n",
       "    }\n",
       "\n",
       "    [theme=dark] .colab-df-convert:hover {\n",
       "      background-color: #434B5C;\n",
       "      box-shadow: 0px 1px 3px 1px rgba(0, 0, 0, 0.15);\n",
       "      filter: drop-shadow(0px 1px 2px rgba(0, 0, 0, 0.3));\n",
       "      fill: #FFFFFF;\n",
       "    }\n",
       "  </style>\n",
       "\n",
       "      <script>\n",
       "        const buttonEl =\n",
       "          document.querySelector('#df-f33ca27b-cf84-41dc-9148-9f9ac5590d9d button.colab-df-convert');\n",
       "        buttonEl.style.display =\n",
       "          google.colab.kernel.accessAllowed ? 'block' : 'none';\n",
       "\n",
       "        async function convertToInteractive(key) {\n",
       "          const element = document.querySelector('#df-f33ca27b-cf84-41dc-9148-9f9ac5590d9d');\n",
       "          const dataTable =\n",
       "            await google.colab.kernel.invokeFunction('convertToInteractive',\n",
       "                                                     [key], {});\n",
       "          if (!dataTable) return;\n",
       "\n",
       "          const docLinkHtml = 'Like what you see? Visit the ' +\n",
       "            '<a target=\"_blank\" href=https://colab.research.google.com/notebooks/data_table.ipynb>data table notebook</a>'\n",
       "            + ' to learn more about interactive tables.';\n",
       "          element.innerHTML = '';\n",
       "          dataTable['output_type'] = 'display_data';\n",
       "          await google.colab.output.renderOutput(dataTable, element);\n",
       "          const docLink = document.createElement('div');\n",
       "          docLink.innerHTML = docLinkHtml;\n",
       "          element.appendChild(docLink);\n",
       "        }\n",
       "      </script>\n",
       "    </div>\n",
       "  </div>\n",
       "  "
      ],
      "text/plain": [
       "   Unnamed: 0  doc_id  sent_id  \\\n",
       "0           0       0        0   \n",
       "1           1       0        1   \n",
       "2           2       0        2   \n",
       "3           3       0        3   \n",
       "4           4       0        4   \n",
       "\n",
       "                                  abstract_sents_raw  \n",
       "0  to report retinal vein occlusion (rvo) and age...  \n",
       "1  clinical data including fundus photographs and...  \n",
       "2  twenty-three eyes of 21 patients were included...  \n",
       "3  twelve eyes (52.2%) had submacular hemorrhage ...  \n",
       "4  twelve patients (60.9%) had been vaccinated wi...  "
      ]
     },
     "execution_count": 29,
     "metadata": {},
     "output_type": "execute_result"
    }
   ],
   "source": [
    "data.head()"
   ]
  },
  {
   "cell_type": "code",
   "execution_count": null,
   "metadata": {
    "colab": {
     "base_uri": "https://localhost:8080/"
    },
    "id": "2CKIQUTxEjcR",
    "outputId": "4ff33829-5430-4ade-dfb0-c0f5cbc06260"
   },
   "outputs": [
    {
     "name": "stdout",
     "output_type": "stream",
     "text": [
      "total number of sentences in topic 4 dataset:  62503\n"
     ]
    }
   ],
   "source": [
    "print('total number of sentences in topic 4 dataset: ', len(data))"
   ]
  },
  {
   "cell_type": "markdown",
   "metadata": {
    "id": "89cAAhwO88iR"
   },
   "source": [
    "Preprocessing\n",
    "- remove non alphabet. Not non English words because Covid-19 is not english word. Taking only alphabet will remove digits, & punctuations automatically. \n",
    "- remove stop words"
   ]
  },
  {
   "cell_type": "code",
   "execution_count": null,
   "metadata": {
    "id": "nbC2wsK7kOFz"
   },
   "outputs": [],
   "source": [
    "### remove stop words\n",
    "from nltk.corpus import stopwords\n",
    "from nltk.tokenize import word_tokenize\n",
    "\n",
    "stop_words = set(stopwords.words('english'))\n",
    "ignore_stopwords = ['do', 'does', 'did', 'be', 'is', 'are', 'was', 'were', 'has', 'have', 'having', 'had']\n",
    "selected_stopwords = stop_words - set(ignore_stopwords)"
   ]
  },
  {
   "cell_type": "code",
   "execution_count": null,
   "metadata": {
    "id": "wXVNCXEsxuEN"
   },
   "outputs": [],
   "source": [
    "# remove non alphabet\n",
    "import re\n",
    "taken_specifics = [' ', '-', '_']"
   ]
  },
  {
   "cell_type": "code",
   "execution_count": null,
   "metadata": {
    "id": "o45uzi9Hws1j"
   },
   "outputs": [],
   "source": [
    "# removing stop words\n",
    "data['abstract_sents'] = data['abstract_sents_raw'].apply(lambda x: ' '.join([w for w in word_tokenize(x) if not w.lower() in stop_words]))"
   ]
  },
  {
   "cell_type": "code",
   "execution_count": null,
   "metadata": {
    "id": "sI_MfJBdyASs"
   },
   "outputs": [],
   "source": [
    "# removing non alphabet\n",
    "data['abstract_sents'] = data['abstract_sents'].apply(lambda x: re.sub(' +', ' ', ''.join([i for i in x if (i.isdigit() or (i in taken_specifics) or i.isalpha())])))"
   ]
  },
  {
   "cell_type": "code",
   "execution_count": null,
   "metadata": {
    "colab": {
     "base_uri": "https://localhost:8080/",
     "height": 424
    },
    "id": "K0hDfdP6yG-K",
    "outputId": "6f217094-66ac-4a41-9600-28b8165f16a0"
   },
   "outputs": [
    {
     "data": {
      "text/html": [
       "\n",
       "  <div id=\"df-3cc19e02-9196-4da9-a532-591bef958a07\">\n",
       "    <div class=\"colab-df-container\">\n",
       "      <div>\n",
       "<style scoped>\n",
       "    .dataframe tbody tr th:only-of-type {\n",
       "        vertical-align: middle;\n",
       "    }\n",
       "\n",
       "    .dataframe tbody tr th {\n",
       "        vertical-align: top;\n",
       "    }\n",
       "\n",
       "    .dataframe thead th {\n",
       "        text-align: right;\n",
       "    }\n",
       "</style>\n",
       "<table border=\"1\" class=\"dataframe\">\n",
       "  <thead>\n",
       "    <tr style=\"text-align: right;\">\n",
       "      <th></th>\n",
       "      <th>Unnamed: 0</th>\n",
       "      <th>doc_id</th>\n",
       "      <th>sent_id</th>\n",
       "      <th>abstract_sents_raw</th>\n",
       "      <th>abstract_sents</th>\n",
       "    </tr>\n",
       "  </thead>\n",
       "  <tbody>\n",
       "    <tr>\n",
       "      <th>0</th>\n",
       "      <td>0</td>\n",
       "      <td>0</td>\n",
       "      <td>0</td>\n",
       "      <td>to report retinal vein occlusion (rvo) and age...</td>\n",
       "      <td>report retinal vein occlusion rvo age-related ...</td>\n",
       "    </tr>\n",
       "    <tr>\n",
       "      <th>1</th>\n",
       "      <td>1</td>\n",
       "      <td>0</td>\n",
       "      <td>1</td>\n",
       "      <td>clinical data including fundus photographs and...</td>\n",
       "      <td>clinical data including fundus photographs opt...</td>\n",
       "    </tr>\n",
       "    <tr>\n",
       "      <th>2</th>\n",
       "      <td>2</td>\n",
       "      <td>0</td>\n",
       "      <td>2</td>\n",
       "      <td>twenty-three eyes of 21 patients were included...</td>\n",
       "      <td>twenty-three eyes 21 patients included median ...</td>\n",
       "    </tr>\n",
       "    <tr>\n",
       "      <th>3</th>\n",
       "      <td>3</td>\n",
       "      <td>0</td>\n",
       "      <td>3</td>\n",
       "      <td>twelve eyes (52.2%) had submacular hemorrhage ...</td>\n",
       "      <td>twelve eyes 522 submacular hemorrhage 11 478 rvo</td>\n",
       "    </tr>\n",
       "    <tr>\n",
       "      <th>4</th>\n",
       "      <td>4</td>\n",
       "      <td>0</td>\n",
       "      <td>4</td>\n",
       "      <td>twelve patients (60.9%) had been vaccinated wi...</td>\n",
       "      <td>twelve patients 609 vaccinated pfizer vaccine ...</td>\n",
       "    </tr>\n",
       "    <tr>\n",
       "      <th>...</th>\n",
       "      <td>...</td>\n",
       "      <td>...</td>\n",
       "      <td>...</td>\n",
       "      <td>...</td>\n",
       "      <td>...</td>\n",
       "    </tr>\n",
       "    <tr>\n",
       "      <th>62498</th>\n",
       "      <td>62498</td>\n",
       "      <td>6177</td>\n",
       "      <td>5</td>\n",
       "      <td>few therapeutics in medicine offer seasonal ef...</td>\n",
       "      <td>therapeutics medicine offer seasonal efficacy ...</td>\n",
       "    </tr>\n",
       "    <tr>\n",
       "      <th>62499</th>\n",
       "      <td>62499</td>\n",
       "      <td>6177</td>\n",
       "      <td>6</td>\n",
       "      <td>infection control measures such as physical di...</td>\n",
       "      <td>infection control measures physical distancing...</td>\n",
       "    </tr>\n",
       "    <tr>\n",
       "      <th>62500</th>\n",
       "      <td>62500</td>\n",
       "      <td>6177</td>\n",
       "      <td>7</td>\n",
       "      <td>appending annual influenza vaccination to thes...</td>\n",
       "      <td>appending annual influenza vaccination measure...</td>\n",
       "    </tr>\n",
       "    <tr>\n",
       "      <th>62501</th>\n",
       "      <td>62501</td>\n",
       "      <td>6178</td>\n",
       "      <td>0</td>\n",
       "      <td>antibodies against sars-cov-2 decay but persis...</td>\n",
       "      <td>antibodies sars-cov-2 decay persist six months...</td>\n",
       "    </tr>\n",
       "    <tr>\n",
       "      <th>62502</th>\n",
       "      <td>62502</td>\n",
       "      <td>6178</td>\n",
       "      <td>1</td>\n",
       "      <td>only 2 of 227 vaccinated healthcare workers ex...</td>\n",
       "      <td>2 227 vaccinated healthcare workers experience...</td>\n",
       "    </tr>\n",
       "  </tbody>\n",
       "</table>\n",
       "<p>62503 rows × 5 columns</p>\n",
       "</div>\n",
       "      <button class=\"colab-df-convert\" onclick=\"convertToInteractive('df-3cc19e02-9196-4da9-a532-591bef958a07')\"\n",
       "              title=\"Convert this dataframe to an interactive table.\"\n",
       "              style=\"display:none;\">\n",
       "        \n",
       "  <svg xmlns=\"http://www.w3.org/2000/svg\" height=\"24px\"viewBox=\"0 0 24 24\"\n",
       "       width=\"24px\">\n",
       "    <path d=\"M0 0h24v24H0V0z\" fill=\"none\"/>\n",
       "    <path d=\"M18.56 5.44l.94 2.06.94-2.06 2.06-.94-2.06-.94-.94-2.06-.94 2.06-2.06.94zm-11 1L8.5 8.5l.94-2.06 2.06-.94-2.06-.94L8.5 2.5l-.94 2.06-2.06.94zm10 10l.94 2.06.94-2.06 2.06-.94-2.06-.94-.94-2.06-.94 2.06-2.06.94z\"/><path d=\"M17.41 7.96l-1.37-1.37c-.4-.4-.92-.59-1.43-.59-.52 0-1.04.2-1.43.59L10.3 9.45l-7.72 7.72c-.78.78-.78 2.05 0 2.83L4 21.41c.39.39.9.59 1.41.59.51 0 1.02-.2 1.41-.59l7.78-7.78 2.81-2.81c.8-.78.8-2.07 0-2.86zM5.41 20L4 18.59l7.72-7.72 1.47 1.35L5.41 20z\"/>\n",
       "  </svg>\n",
       "      </button>\n",
       "      \n",
       "  <style>\n",
       "    .colab-df-container {\n",
       "      display:flex;\n",
       "      flex-wrap:wrap;\n",
       "      gap: 12px;\n",
       "    }\n",
       "\n",
       "    .colab-df-convert {\n",
       "      background-color: #E8F0FE;\n",
       "      border: none;\n",
       "      border-radius: 50%;\n",
       "      cursor: pointer;\n",
       "      display: none;\n",
       "      fill: #1967D2;\n",
       "      height: 32px;\n",
       "      padding: 0 0 0 0;\n",
       "      width: 32px;\n",
       "    }\n",
       "\n",
       "    .colab-df-convert:hover {\n",
       "      background-color: #E2EBFA;\n",
       "      box-shadow: 0px 1px 2px rgba(60, 64, 67, 0.3), 0px 1px 3px 1px rgba(60, 64, 67, 0.15);\n",
       "      fill: #174EA6;\n",
       "    }\n",
       "\n",
       "    [theme=dark] .colab-df-convert {\n",
       "      background-color: #3B4455;\n",
       "      fill: #D2E3FC;\n",
       "    }\n",
       "\n",
       "    [theme=dark] .colab-df-convert:hover {\n",
       "      background-color: #434B5C;\n",
       "      box-shadow: 0px 1px 3px 1px rgba(0, 0, 0, 0.15);\n",
       "      filter: drop-shadow(0px 1px 2px rgba(0, 0, 0, 0.3));\n",
       "      fill: #FFFFFF;\n",
       "    }\n",
       "  </style>\n",
       "\n",
       "      <script>\n",
       "        const buttonEl =\n",
       "          document.querySelector('#df-3cc19e02-9196-4da9-a532-591bef958a07 button.colab-df-convert');\n",
       "        buttonEl.style.display =\n",
       "          google.colab.kernel.accessAllowed ? 'block' : 'none';\n",
       "\n",
       "        async function convertToInteractive(key) {\n",
       "          const element = document.querySelector('#df-3cc19e02-9196-4da9-a532-591bef958a07');\n",
       "          const dataTable =\n",
       "            await google.colab.kernel.invokeFunction('convertToInteractive',\n",
       "                                                     [key], {});\n",
       "          if (!dataTable) return;\n",
       "\n",
       "          const docLinkHtml = 'Like what you see? Visit the ' +\n",
       "            '<a target=\"_blank\" href=https://colab.research.google.com/notebooks/data_table.ipynb>data table notebook</a>'\n",
       "            + ' to learn more about interactive tables.';\n",
       "          element.innerHTML = '';\n",
       "          dataTable['output_type'] = 'display_data';\n",
       "          await google.colab.output.renderOutput(dataTable, element);\n",
       "          const docLink = document.createElement('div');\n",
       "          docLink.innerHTML = docLinkHtml;\n",
       "          element.appendChild(docLink);\n",
       "        }\n",
       "      </script>\n",
       "    </div>\n",
       "  </div>\n",
       "  "
      ],
      "text/plain": [
       "       Unnamed: 0  doc_id  sent_id  \\\n",
       "0               0       0        0   \n",
       "1               1       0        1   \n",
       "2               2       0        2   \n",
       "3               3       0        3   \n",
       "4               4       0        4   \n",
       "...           ...     ...      ...   \n",
       "62498       62498    6177        5   \n",
       "62499       62499    6177        6   \n",
       "62500       62500    6177        7   \n",
       "62501       62501    6178        0   \n",
       "62502       62502    6178        1   \n",
       "\n",
       "                                      abstract_sents_raw  \\\n",
       "0      to report retinal vein occlusion (rvo) and age...   \n",
       "1      clinical data including fundus photographs and...   \n",
       "2      twenty-three eyes of 21 patients were included...   \n",
       "3      twelve eyes (52.2%) had submacular hemorrhage ...   \n",
       "4      twelve patients (60.9%) had been vaccinated wi...   \n",
       "...                                                  ...   \n",
       "62498  few therapeutics in medicine offer seasonal ef...   \n",
       "62499  infection control measures such as physical di...   \n",
       "62500  appending annual influenza vaccination to thes...   \n",
       "62501  antibodies against sars-cov-2 decay but persis...   \n",
       "62502  only 2 of 227 vaccinated healthcare workers ex...   \n",
       "\n",
       "                                          abstract_sents  \n",
       "0      report retinal vein occlusion rvo age-related ...  \n",
       "1      clinical data including fundus photographs opt...  \n",
       "2      twenty-three eyes 21 patients included median ...  \n",
       "3      twelve eyes 522 submacular hemorrhage 11 478 rvo   \n",
       "4      twelve patients 609 vaccinated pfizer vaccine ...  \n",
       "...                                                  ...  \n",
       "62498  therapeutics medicine offer seasonal efficacy ...  \n",
       "62499  infection control measures physical distancing...  \n",
       "62500  appending annual influenza vaccination measure...  \n",
       "62501  antibodies sars-cov-2 decay persist six months...  \n",
       "62502  2 227 vaccinated healthcare workers experience...  \n",
       "\n",
       "[62503 rows x 5 columns]"
      ]
     },
     "execution_count": 35,
     "metadata": {},
     "output_type": "execute_result"
    }
   ],
   "source": [
    "data"
   ]
  },
  {
   "cell_type": "code",
   "execution_count": null,
   "metadata": {
    "id": "8i6vF5WSzj0y"
   },
   "outputs": [],
   "source": [
    "df = data[['doc_id', 'sent_id', 'abstract_sents']]\n",
    "df.to_csv('preprocessed_topic4_corpus.csv')"
   ]
  },
  {
   "cell_type": "code",
   "execution_count": null,
   "metadata": {
    "colab": {
     "base_uri": "https://localhost:8080/"
    },
    "id": "Sssx3czvj1zc",
    "outputId": "2819a80b-c5ca-44dc-a712-577541e8e5ca"
   },
   "outputs": [
    {
     "name": "stdout",
     "output_type": "stream",
     "text": [
      "Estimate runtime:  0.2287003954251607  minutes.\n"
     ]
    }
   ],
   "source": [
    "end_time = time.time()\n",
    "\n",
    "print('Estimate runtime: ', (end_time-start_time)/60, ' minutes.')"
   ]
  },
  {
   "cell_type": "code",
   "execution_count": null,
   "metadata": {
    "id": "0cG0iROv8Q-2"
   },
   "outputs": [],
   "source": [
    "# Estimate runtime:  0.2450804392496745  minutes."
   ]
  }
 ],
 "metadata": {
  "accelerator": "TPU",
  "colab": {
   "collapsed_sections": [],
   "machine_shape": "hm",
   "name": "topic4_dataset_preprocessing.ipynb",
   "provenance": []
  },
  "gpuClass": "standard",
  "kernelspec": {
   "display_name": "Python 3",
   "language": "python",
   "name": "python3"
  },
  "language_info": {
   "codemirror_mode": {
    "name": "ipython",
    "version": 3
   },
   "file_extension": ".py",
   "mimetype": "text/x-python",
   "name": "python",
   "nbconvert_exporter": "python",
   "pygments_lexer": "ipython3",
   "version": "3.8.3"
  }
 },
 "nbformat": 4,
 "nbformat_minor": 1
}
