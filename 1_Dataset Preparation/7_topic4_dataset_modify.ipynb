{
 "cells": [
  {
   "cell_type": "markdown",
   "metadata": {},
   "source": [
    "### 7. Expand Each sentence with respective sent_id and doc_id"
   ]
  },
  {
   "cell_type": "code",
   "execution_count": null,
   "metadata": {
    "id": "F7NRfXhBiyi9"
   },
   "outputs": [],
   "source": [
    "import torch\n",
    "import pandas as pd\n",
    "import numpy as np\n",
    "import time\n",
    "start_time = time.time()"
   ]
  },
  {
   "cell_type": "code",
   "execution_count": null,
   "metadata": {
    "id": "nt2qzSsIWaLK"
   },
   "outputs": [],
   "source": [
    "import nltk\n",
    "#nltk.download('punkt')\n",
    "#nltk.download('stopwords')"
   ]
  },
  {
   "cell_type": "code",
   "execution_count": null,
   "metadata": {
    "id": "GwEQnjZmi4Xl"
   },
   "outputs": [],
   "source": [
    "data = pd.read_csv(\"topic4_dataset.csv\",encoding=\"latin1\" )"
   ]
  },
  {
   "cell_type": "code",
   "execution_count": null,
   "metadata": {
    "colab": {
     "base_uri": "https://localhost:8080/",
     "height": 565
    },
    "id": "7_mlcPrQm_QW",
    "outputId": "4d03fed9-ef9f-4c6e-88fa-713e1cbabd28"
   },
   "outputs": [
    {
     "data": {
      "text/html": [
       "\n",
       "  <div id=\"df-f385e246-9421-4c74-a236-414a17363617\">\n",
       "    <div class=\"colab-df-container\">\n",
       "      <div>\n",
       "<style scoped>\n",
       "    .dataframe tbody tr th:only-of-type {\n",
       "        vertical-align: middle;\n",
       "    }\n",
       "\n",
       "    .dataframe tbody tr th {\n",
       "        vertical-align: top;\n",
       "    }\n",
       "\n",
       "    .dataframe thead th {\n",
       "        text-align: right;\n",
       "    }\n",
       "</style>\n",
       "<table border=\"1\" class=\"dataframe\">\n",
       "  <thead>\n",
       "    <tr style=\"text-align: right;\">\n",
       "      <th></th>\n",
       "      <th>Unnamed: 0</th>\n",
       "      <th>Unnamed: 0.1</th>\n",
       "      <th>Unnamed: 0.1.1</th>\n",
       "      <th>Unnamed: 0.1.1.1</th>\n",
       "      <th>Unnamed: 0.1.1.1.1</th>\n",
       "      <th>title</th>\n",
       "      <th>abstract</th>\n",
       "      <th>publish_time</th>\n",
       "      <th>abstract_tokens</th>\n",
       "      <th>Lemma_Tokens</th>\n",
       "      <th>Phrase_Lemma_Tokens</th>\n",
       "      <th>Phrase_Lemma_Tokens_trigram</th>\n",
       "      <th>Selected Topic</th>\n",
       "    </tr>\n",
       "  </thead>\n",
       "  <tbody>\n",
       "    <tr>\n",
       "      <th>0</th>\n",
       "      <td>1</td>\n",
       "      <td>1</td>\n",
       "      <td>393220</td>\n",
       "      <td>483203</td>\n",
       "      <td>736911</td>\n",
       "      <td>Retinal Hemorrhage after SARS-CoV-2 Vaccination</td>\n",
       "      <td>to report retinal vein occlusion (rvo) and age...</td>\n",
       "      <td>2021-12-05</td>\n",
       "      <td>['report', 'retinal', 'vein', 'occlusion', 'rv...</td>\n",
       "      <td>['report', 'retinal', 'vein', 'occlusion', 'rv...</td>\n",
       "      <td>['report', 'retinal_vein', 'occlusion', 'rvo',...</td>\n",
       "      <td>['report', 'retinal_vein', 'occlusion', 'rvo',...</td>\n",
       "      <td>Topic 4</td>\n",
       "    </tr>\n",
       "    <tr>\n",
       "      <th>1</th>\n",
       "      <td>4</td>\n",
       "      <td>4</td>\n",
       "      <td>262152</td>\n",
       "      <td>302536</td>\n",
       "      <td>481315</td>\n",
       "      <td>Pre-vaccination Antibody Titers Against Season...</td>\n",
       "      <td>background the prospective assessment of sars-...</td>\n",
       "      <td>2021</td>\n",
       "      <td>['background', 'prospective', 'assessment', 's...</td>\n",
       "      <td>['background', 'prospective', 'assessment', 's...</td>\n",
       "      <td>['background', 'prospective', 'assessment', 's...</td>\n",
       "      <td>['background', 'prospective', 'assessment', 's...</td>\n",
       "      <td>Topic 4</td>\n",
       "    </tr>\n",
       "    <tr>\n",
       "      <th>2</th>\n",
       "      <td>6</td>\n",
       "      <td>6</td>\n",
       "      <td>7</td>\n",
       "      <td>7</td>\n",
       "      <td>4249</td>\n",
       "      <td>Imaging of tumour response to immunotherapy</td>\n",
       "      <td>a wide range of cancer immunotherapy approache...</td>\n",
       "      <td>2020-01-03</td>\n",
       "      <td>['wide', 'range', 'cancer', 'immunotherapy', '...</td>\n",
       "      <td>['wide', 'range', 'cancer', 'immunotherapy', '...</td>\n",
       "      <td>['wide_range', 'cancer_immunotherapy', 'approa...</td>\n",
       "      <td>['wide_range', 'cancer_immunotherapy', 'approa...</td>\n",
       "      <td>Topic 4</td>\n",
       "    </tr>\n",
       "    <tr>\n",
       "      <th>3</th>\n",
       "      <td>11</td>\n",
       "      <td>11</td>\n",
       "      <td>131091</td>\n",
       "      <td>131740</td>\n",
       "      <td>226639</td>\n",
       "      <td>Outcomes of Patients with Budd-Chiari Syndrome...</td>\n",
       "      <td>background: budd-chiari syndrome (bcs) is a co...</td>\n",
       "      <td>2021</td>\n",
       "      <td>['background', 'syndrome', 'bcs', 'complex', '...</td>\n",
       "      <td>['background', 'syndrome', 'bcs', 'complex', '...</td>\n",
       "      <td>['background', 'syndrome', 'bcs', 'complex', '...</td>\n",
       "      <td>['background', 'syndrome', 'bcs', 'complex', '...</td>\n",
       "      <td>Topic 4</td>\n",
       "    </tr>\n",
       "    <tr>\n",
       "      <th>4</th>\n",
       "      <td>15</td>\n",
       "      <td>15</td>\n",
       "      <td>131100</td>\n",
       "      <td>131749</td>\n",
       "      <td>226650</td>\n",
       "      <td>Multifactorial analysis of cancer patients' wi...</td>\n",
       "      <td>background: public health authorities advocate...</td>\n",
       "      <td>2021</td>\n",
       "      <td>['background', 'public', 'health', 'authoritie...</td>\n",
       "      <td>['background', 'public', 'health', 'authority'...</td>\n",
       "      <td>['background', 'public_health', 'authority', '...</td>\n",
       "      <td>['background', 'public_health_authority', 'adv...</td>\n",
       "      <td>Topic 4</td>\n",
       "    </tr>\n",
       "  </tbody>\n",
       "</table>\n",
       "</div>\n",
       "      <button class=\"colab-df-convert\" onclick=\"convertToInteractive('df-f385e246-9421-4c74-a236-414a17363617')\"\n",
       "              title=\"Convert this dataframe to an interactive table.\"\n",
       "              style=\"display:none;\">\n",
       "        \n",
       "  <svg xmlns=\"http://www.w3.org/2000/svg\" height=\"24px\"viewBox=\"0 0 24 24\"\n",
       "       width=\"24px\">\n",
       "    <path d=\"M0 0h24v24H0V0z\" fill=\"none\"/>\n",
       "    <path d=\"M18.56 5.44l.94 2.06.94-2.06 2.06-.94-2.06-.94-.94-2.06-.94 2.06-2.06.94zm-11 1L8.5 8.5l.94-2.06 2.06-.94-2.06-.94L8.5 2.5l-.94 2.06-2.06.94zm10 10l.94 2.06.94-2.06 2.06-.94-2.06-.94-.94-2.06-.94 2.06-2.06.94z\"/><path d=\"M17.41 7.96l-1.37-1.37c-.4-.4-.92-.59-1.43-.59-.52 0-1.04.2-1.43.59L10.3 9.45l-7.72 7.72c-.78.78-.78 2.05 0 2.83L4 21.41c.39.39.9.59 1.41.59.51 0 1.02-.2 1.41-.59l7.78-7.78 2.81-2.81c.8-.78.8-2.07 0-2.86zM5.41 20L4 18.59l7.72-7.72 1.47 1.35L5.41 20z\"/>\n",
       "  </svg>\n",
       "      </button>\n",
       "      \n",
       "  <style>\n",
       "    .colab-df-container {\n",
       "      display:flex;\n",
       "      flex-wrap:wrap;\n",
       "      gap: 12px;\n",
       "    }\n",
       "\n",
       "    .colab-df-convert {\n",
       "      background-color: #E8F0FE;\n",
       "      border: none;\n",
       "      border-radius: 50%;\n",
       "      cursor: pointer;\n",
       "      display: none;\n",
       "      fill: #1967D2;\n",
       "      height: 32px;\n",
       "      padding: 0 0 0 0;\n",
       "      width: 32px;\n",
       "    }\n",
       "\n",
       "    .colab-df-convert:hover {\n",
       "      background-color: #E2EBFA;\n",
       "      box-shadow: 0px 1px 2px rgba(60, 64, 67, 0.3), 0px 1px 3px 1px rgba(60, 64, 67, 0.15);\n",
       "      fill: #174EA6;\n",
       "    }\n",
       "\n",
       "    [theme=dark] .colab-df-convert {\n",
       "      background-color: #3B4455;\n",
       "      fill: #D2E3FC;\n",
       "    }\n",
       "\n",
       "    [theme=dark] .colab-df-convert:hover {\n",
       "      background-color: #434B5C;\n",
       "      box-shadow: 0px 1px 3px 1px rgba(0, 0, 0, 0.15);\n",
       "      filter: drop-shadow(0px 1px 2px rgba(0, 0, 0, 0.3));\n",
       "      fill: #FFFFFF;\n",
       "    }\n",
       "  </style>\n",
       "\n",
       "      <script>\n",
       "        const buttonEl =\n",
       "          document.querySelector('#df-f385e246-9421-4c74-a236-414a17363617 button.colab-df-convert');\n",
       "        buttonEl.style.display =\n",
       "          google.colab.kernel.accessAllowed ? 'block' : 'none';\n",
       "\n",
       "        async function convertToInteractive(key) {\n",
       "          const element = document.querySelector('#df-f385e246-9421-4c74-a236-414a17363617');\n",
       "          const dataTable =\n",
       "            await google.colab.kernel.invokeFunction('convertToInteractive',\n",
       "                                                     [key], {});\n",
       "          if (!dataTable) return;\n",
       "\n",
       "          const docLinkHtml = 'Like what you see? Visit the ' +\n",
       "            '<a target=\"_blank\" href=https://colab.research.google.com/notebooks/data_table.ipynb>data table notebook</a>'\n",
       "            + ' to learn more about interactive tables.';\n",
       "          element.innerHTML = '';\n",
       "          dataTable['output_type'] = 'display_data';\n",
       "          await google.colab.output.renderOutput(dataTable, element);\n",
       "          const docLink = document.createElement('div');\n",
       "          docLink.innerHTML = docLinkHtml;\n",
       "          element.appendChild(docLink);\n",
       "        }\n",
       "      </script>\n",
       "    </div>\n",
       "  </div>\n",
       "  "
      ],
      "text/plain": [
       "   Unnamed: 0  Unnamed: 0.1  Unnamed: 0.1.1  Unnamed: 0.1.1.1  \\\n",
       "0           1             1          393220            483203   \n",
       "1           4             4          262152            302536   \n",
       "2           6             6               7                 7   \n",
       "3          11            11          131091            131740   \n",
       "4          15            15          131100            131749   \n",
       "\n",
       "   Unnamed: 0.1.1.1.1                                              title  \\\n",
       "0              736911    Retinal Hemorrhage after SARS-CoV-2 Vaccination   \n",
       "1              481315  Pre-vaccination Antibody Titers Against Season...   \n",
       "2                4249        Imaging of tumour response to immunotherapy   \n",
       "3              226639  Outcomes of Patients with Budd-Chiari Syndrome...   \n",
       "4              226650  Multifactorial analysis of cancer patients' wi...   \n",
       "\n",
       "                                            abstract publish_time  \\\n",
       "0  to report retinal vein occlusion (rvo) and age...   2021-12-05   \n",
       "1  background the prospective assessment of sars-...         2021   \n",
       "2  a wide range of cancer immunotherapy approache...   2020-01-03   \n",
       "3  background: budd-chiari syndrome (bcs) is a co...         2021   \n",
       "4  background: public health authorities advocate...         2021   \n",
       "\n",
       "                                     abstract_tokens  \\\n",
       "0  ['report', 'retinal', 'vein', 'occlusion', 'rv...   \n",
       "1  ['background', 'prospective', 'assessment', 's...   \n",
       "2  ['wide', 'range', 'cancer', 'immunotherapy', '...   \n",
       "3  ['background', 'syndrome', 'bcs', 'complex', '...   \n",
       "4  ['background', 'public', 'health', 'authoritie...   \n",
       "\n",
       "                                        Lemma_Tokens  \\\n",
       "0  ['report', 'retinal', 'vein', 'occlusion', 'rv...   \n",
       "1  ['background', 'prospective', 'assessment', 's...   \n",
       "2  ['wide', 'range', 'cancer', 'immunotherapy', '...   \n",
       "3  ['background', 'syndrome', 'bcs', 'complex', '...   \n",
       "4  ['background', 'public', 'health', 'authority'...   \n",
       "\n",
       "                                 Phrase_Lemma_Tokens  \\\n",
       "0  ['report', 'retinal_vein', 'occlusion', 'rvo',...   \n",
       "1  ['background', 'prospective', 'assessment', 's...   \n",
       "2  ['wide_range', 'cancer_immunotherapy', 'approa...   \n",
       "3  ['background', 'syndrome', 'bcs', 'complex', '...   \n",
       "4  ['background', 'public_health', 'authority', '...   \n",
       "\n",
       "                         Phrase_Lemma_Tokens_trigram Selected Topic  \n",
       "0  ['report', 'retinal_vein', 'occlusion', 'rvo',...        Topic 4  \n",
       "1  ['background', 'prospective', 'assessment', 's...        Topic 4  \n",
       "2  ['wide_range', 'cancer_immunotherapy', 'approa...        Topic 4  \n",
       "3  ['background', 'syndrome', 'bcs', 'complex', '...        Topic 4  \n",
       "4  ['background', 'public_health_authority', 'adv...        Topic 4  "
      ]
     },
     "execution_count": 8,
     "metadata": {},
     "output_type": "execute_result"
    }
   ],
   "source": [
    "data.head()"
   ]
  },
  {
   "cell_type": "markdown",
   "metadata": {
    "id": "89cAAhwO88iR"
   },
   "source": [
    "Preprocessing"
   ]
  },
  {
   "cell_type": "code",
   "execution_count": null,
   "metadata": {
    "colab": {
     "base_uri": "https://localhost:8080/"
    },
    "id": "RrRgInQk8Bzi",
    "outputId": "d8e80a03-c49d-44a2-9403-4c1f60a73254"
   },
   "outputs": [
    {
     "data": {
      "text/plain": [
       "179"
      ]
     },
     "execution_count": 9,
     "metadata": {},
     "output_type": "execute_result"
    }
   ],
   "source": [
    "from nltk.corpus import stopwords\n",
    "stopwords = set(stopwords.words('english'))\n",
    "len(stopwords)"
   ]
  },
  {
   "cell_type": "code",
   "execution_count": null,
   "metadata": {
    "colab": {
     "base_uri": "https://localhost:8080/"
    },
    "id": "eLFH0MiP8OTI",
    "outputId": "b39506c6-df54-4025-d414-0327572a33f4"
   },
   "outputs": [
    {
     "name": "stdout",
     "output_type": "stream",
     "text": [
      "{\"shouldn't\", 'needn', 'what', \"should've\", \"it's\", 'd', 'had', 's', 'y', 'own', 'be', 'the', \"weren't\", 'don', \"mightn't\", 'itself', \"needn't\", 'most', 'you', 'than', 'has', 'did', 'off', 'they', \"wasn't\", 'or', \"wouldn't\", 'isn', 'have', 'because', \"aren't\", 'was', \"she's\", 't', 'up', 'were', \"you're\", 'm', 'no', 'into', 'in', 'him', 'an', 'our', 'themselves', 'wouldn', 'too', \"hasn't\", 'wasn', 'should', 'weren', 'aren', 'that', 'while', 'doing', 'will', 'once', 'herself', 'mightn', 'is', 'theirs', 'until', \"hadn't\", 'having', \"that'll\", 'both', \"don't\", 'myself', 'again', 'his', 'from', 'under', 'can', 'haven', 'll', 'its', 'doesn', 'we', 'ours', 'her', 'whom', 'how', 'shan', 'been', 'over', 'out', 'himself', 'yours', 'does', 'for', 'your', \"couldn't\", 'shouldn', 'after', 'few', 'hers', 'same', \"won't\", 'more', 'o', \"didn't\", 'other', 'their', 'are', 'down', 'mustn', 'to', 'at', 'it', 'further', 'with', 'if', 'then', 'nor', 'do', 'me', 'being', 'won', 'through', 'ma', 'am', 'above', 'these', 'which', 'such', 'just', 'now', 'them', 'why', 'a', 'ourselves', 'when', \"haven't\", 'as', \"you'd\", 'yourselves', 'who', \"mustn't\", 'there', \"shan't\", 'only', 'my', 'she', 'those', 'and', 're', 'each', 'but', 'ain', \"doesn't\", \"you've\", 'any', 'against', 'hadn', 'all', 'on', 'of', 'during', 'about', 'this', 'by', 'not', \"isn't\", 'some', 'below', 'between', 'hasn', 'yourself', 'i', 'didn', 'so', 'before', 've', 'where', 'couldn', 'very', 'he', 'here', \"you'll\"}\n"
     ]
    }
   ],
   "source": [
    "print(stopwords)"
   ]
  },
  {
   "cell_type": "code",
   "execution_count": null,
   "metadata": {
    "id": "JG1wTeyxVCwg"
   },
   "outputs": [],
   "source": [
    "topic4_abstract = data['abstract'].tolist()"
   ]
  },
  {
   "cell_type": "code",
   "execution_count": null,
   "metadata": {
    "id": "SO6HqurBgdsJ"
   },
   "outputs": [],
   "source": [
    "sent_id_list = []\n",
    "sent_list = []\n",
    "\n",
    "for doc_id in range(len(topic4_abstract)):\n",
    "  doc_sent = nltk.tokenize.sent_tokenize(topic4_abstract[doc_id])\n",
    "\n",
    "  sent_id_list.append(list(range(len(doc_sent))))\n",
    "  sent_list.append((doc_sent))"
   ]
  },
  {
   "cell_type": "code",
   "execution_count": null,
   "metadata": {
    "id": "DRUfgTi8ghow"
   },
   "outputs": [],
   "source": [
    "topic4_df = pd.DataFrame({'doc_id': list(range(len(topic4_abstract))), 'sent_id':sent_id_list, 'abstract_sents':sent_list})"
   ]
  },
  {
   "cell_type": "code",
   "execution_count": null,
   "metadata": {
    "id": "rb8XanwEi7cA"
   },
   "outputs": [],
   "source": [
    "topic4_df = topic4_df.explode(['sent_id', 'abstract_sents']).reset_index(drop = True)"
   ]
  },
  {
   "cell_type": "code",
   "execution_count": null,
   "metadata": {
    "colab": {
     "base_uri": "https://localhost:8080/",
     "height": 206
    },
    "id": "6R22RumbhHc6",
    "outputId": "d84a36c1-b314-4311-9813-2e40328ad9a3"
   },
   "outputs": [
    {
     "data": {
      "text/html": [
       "\n",
       "  <div id=\"df-ddb5cb96-6d33-4ccf-ae6a-59c6bf5e053b\">\n",
       "    <div class=\"colab-df-container\">\n",
       "      <div>\n",
       "<style scoped>\n",
       "    .dataframe tbody tr th:only-of-type {\n",
       "        vertical-align: middle;\n",
       "    }\n",
       "\n",
       "    .dataframe tbody tr th {\n",
       "        vertical-align: top;\n",
       "    }\n",
       "\n",
       "    .dataframe thead th {\n",
       "        text-align: right;\n",
       "    }\n",
       "</style>\n",
       "<table border=\"1\" class=\"dataframe\">\n",
       "  <thead>\n",
       "    <tr style=\"text-align: right;\">\n",
       "      <th></th>\n",
       "      <th>doc_id</th>\n",
       "      <th>sent_id</th>\n",
       "      <th>abstract_sents</th>\n",
       "    </tr>\n",
       "  </thead>\n",
       "  <tbody>\n",
       "    <tr>\n",
       "      <th>0</th>\n",
       "      <td>0</td>\n",
       "      <td>0</td>\n",
       "      <td>to report retinal vein occlusion (rvo) and age...</td>\n",
       "    </tr>\n",
       "    <tr>\n",
       "      <th>1</th>\n",
       "      <td>0</td>\n",
       "      <td>1</td>\n",
       "      <td>clinical data including fundus photographs and...</td>\n",
       "    </tr>\n",
       "    <tr>\n",
       "      <th>2</th>\n",
       "      <td>0</td>\n",
       "      <td>2</td>\n",
       "      <td>twenty-three eyes of 21 patients were included...</td>\n",
       "    </tr>\n",
       "    <tr>\n",
       "      <th>3</th>\n",
       "      <td>0</td>\n",
       "      <td>3</td>\n",
       "      <td>twelve eyes (52.2%) had submacular hemorrhage ...</td>\n",
       "    </tr>\n",
       "    <tr>\n",
       "      <th>4</th>\n",
       "      <td>0</td>\n",
       "      <td>4</td>\n",
       "      <td>twelve patients (60.9%) had been vaccinated wi...</td>\n",
       "    </tr>\n",
       "  </tbody>\n",
       "</table>\n",
       "</div>\n",
       "      <button class=\"colab-df-convert\" onclick=\"convertToInteractive('df-ddb5cb96-6d33-4ccf-ae6a-59c6bf5e053b')\"\n",
       "              title=\"Convert this dataframe to an interactive table.\"\n",
       "              style=\"display:none;\">\n",
       "        \n",
       "  <svg xmlns=\"http://www.w3.org/2000/svg\" height=\"24px\"viewBox=\"0 0 24 24\"\n",
       "       width=\"24px\">\n",
       "    <path d=\"M0 0h24v24H0V0z\" fill=\"none\"/>\n",
       "    <path d=\"M18.56 5.44l.94 2.06.94-2.06 2.06-.94-2.06-.94-.94-2.06-.94 2.06-2.06.94zm-11 1L8.5 8.5l.94-2.06 2.06-.94-2.06-.94L8.5 2.5l-.94 2.06-2.06.94zm10 10l.94 2.06.94-2.06 2.06-.94-2.06-.94-.94-2.06-.94 2.06-2.06.94z\"/><path d=\"M17.41 7.96l-1.37-1.37c-.4-.4-.92-.59-1.43-.59-.52 0-1.04.2-1.43.59L10.3 9.45l-7.72 7.72c-.78.78-.78 2.05 0 2.83L4 21.41c.39.39.9.59 1.41.59.51 0 1.02-.2 1.41-.59l7.78-7.78 2.81-2.81c.8-.78.8-2.07 0-2.86zM5.41 20L4 18.59l7.72-7.72 1.47 1.35L5.41 20z\"/>\n",
       "  </svg>\n",
       "      </button>\n",
       "      \n",
       "  <style>\n",
       "    .colab-df-container {\n",
       "      display:flex;\n",
       "      flex-wrap:wrap;\n",
       "      gap: 12px;\n",
       "    }\n",
       "\n",
       "    .colab-df-convert {\n",
       "      background-color: #E8F0FE;\n",
       "      border: none;\n",
       "      border-radius: 50%;\n",
       "      cursor: pointer;\n",
       "      display: none;\n",
       "      fill: #1967D2;\n",
       "      height: 32px;\n",
       "      padding: 0 0 0 0;\n",
       "      width: 32px;\n",
       "    }\n",
       "\n",
       "    .colab-df-convert:hover {\n",
       "      background-color: #E2EBFA;\n",
       "      box-shadow: 0px 1px 2px rgba(60, 64, 67, 0.3), 0px 1px 3px 1px rgba(60, 64, 67, 0.15);\n",
       "      fill: #174EA6;\n",
       "    }\n",
       "\n",
       "    [theme=dark] .colab-df-convert {\n",
       "      background-color: #3B4455;\n",
       "      fill: #D2E3FC;\n",
       "    }\n",
       "\n",
       "    [theme=dark] .colab-df-convert:hover {\n",
       "      background-color: #434B5C;\n",
       "      box-shadow: 0px 1px 3px 1px rgba(0, 0, 0, 0.15);\n",
       "      filter: drop-shadow(0px 1px 2px rgba(0, 0, 0, 0.3));\n",
       "      fill: #FFFFFF;\n",
       "    }\n",
       "  </style>\n",
       "\n",
       "      <script>\n",
       "        const buttonEl =\n",
       "          document.querySelector('#df-ddb5cb96-6d33-4ccf-ae6a-59c6bf5e053b button.colab-df-convert');\n",
       "        buttonEl.style.display =\n",
       "          google.colab.kernel.accessAllowed ? 'block' : 'none';\n",
       "\n",
       "        async function convertToInteractive(key) {\n",
       "          const element = document.querySelector('#df-ddb5cb96-6d33-4ccf-ae6a-59c6bf5e053b');\n",
       "          const dataTable =\n",
       "            await google.colab.kernel.invokeFunction('convertToInteractive',\n",
       "                                                     [key], {});\n",
       "          if (!dataTable) return;\n",
       "\n",
       "          const docLinkHtml = 'Like what you see? Visit the ' +\n",
       "            '<a target=\"_blank\" href=https://colab.research.google.com/notebooks/data_table.ipynb>data table notebook</a>'\n",
       "            + ' to learn more about interactive tables.';\n",
       "          element.innerHTML = '';\n",
       "          dataTable['output_type'] = 'display_data';\n",
       "          await google.colab.output.renderOutput(dataTable, element);\n",
       "          const docLink = document.createElement('div');\n",
       "          docLink.innerHTML = docLinkHtml;\n",
       "          element.appendChild(docLink);\n",
       "        }\n",
       "      </script>\n",
       "    </div>\n",
       "  </div>\n",
       "  "
      ],
      "text/plain": [
       "   doc_id sent_id                                     abstract_sents\n",
       "0       0       0  to report retinal vein occlusion (rvo) and age...\n",
       "1       0       1  clinical data including fundus photographs and...\n",
       "2       0       2  twenty-three eyes of 21 patients were included...\n",
       "3       0       3  twelve eyes (52.2%) had submacular hemorrhage ...\n",
       "4       0       4  twelve patients (60.9%) had been vaccinated wi..."
      ]
     },
     "execution_count": 15,
     "metadata": {},
     "output_type": "execute_result"
    }
   ],
   "source": [
    "topic4_df.head()"
   ]
  },
  {
   "cell_type": "code",
   "execution_count": null,
   "metadata": {
    "colab": {
     "base_uri": "https://localhost:8080/"
    },
    "id": "yFRVKhSihyNw",
    "outputId": "a79ba73c-99fc-49a9-b7a0-830ac1d5c796"
   },
   "outputs": [
    {
     "name": "stdout",
     "output_type": "stream",
     "text": [
      "62503\n"
     ]
    }
   ],
   "source": [
    "print(len(topic4_df))"
   ]
  },
  {
   "cell_type": "code",
   "execution_count": null,
   "metadata": {
    "id": "okOEbPa0hWQo"
   },
   "outputs": [],
   "source": [
    "topic4_df.to_csv('topic4_sent_corpus.csv')"
   ]
  },
  {
   "cell_type": "code",
   "execution_count": null,
   "metadata": {
    "colab": {
     "base_uri": "https://localhost:8080/"
    },
    "id": "Sssx3czvj1zc",
    "outputId": "a7bb5e81-8468-401a-c622-98e374526ab7"
   },
   "outputs": [
    {
     "name": "stdout",
     "output_type": "stream",
     "text": [
      "Estimate runtime:  0.06347545782725016  minutes.\n"
     ]
    }
   ],
   "source": [
    "end_time = time.time()\n",
    "\n",
    "print('Estimate runtime: ', (end_time-start_time)/60, ' minutes.')"
   ]
  },
  {
   "cell_type": "code",
   "execution_count": null,
   "metadata": {
    "id": "0cG0iROv8Q-2"
   },
   "outputs": [],
   "source": [
    "# Estimate runtime:  0.10383131504058837  minutes."
   ]
  }
 ],
 "metadata": {
  "accelerator": "TPU",
  "colab": {
   "collapsed_sections": [],
   "machine_shape": "hm",
   "name": "topic4_dataset_modify.ipynb",
   "provenance": []
  },
  "kernelspec": {
   "display_name": "Python 3",
   "language": "python",
   "name": "python3"
  },
  "language_info": {
   "codemirror_mode": {
    "name": "ipython",
    "version": 3
   },
   "file_extension": ".py",
   "mimetype": "text/x-python",
   "name": "python",
   "nbconvert_exporter": "python",
   "pygments_lexer": "ipython3",
   "version": "3.8.3"
  }
 },
 "nbformat": 4,
 "nbformat_minor": 1
}
