{
 "cells": [
  {
   "cell_type": "markdown",
   "metadata": {},
   "source": [
    "### Balanced CORD-NER dataset"
   ]
  },
  {
   "cell_type": "code",
   "execution_count": null,
   "metadata": {
    "colab": {
     "base_uri": "https://localhost:8080/"
    },
    "id": "Vk0bv59pk4S4",
    "outputId": "95bb53dc-3b4d-4dec-c868-72b9610ec259"
   },
   "outputs": [
    {
     "name": "stdout",
     "output_type": "stream",
     "text": [
      "Drive already mounted at /content/drive; to attempt to forcibly remount, call drive.mount(\"/content/drive\", force_remount=True).\n"
     ]
    }
   ],
   "source": [
    "from google.colab import drive\n",
    "drive.mount('/content/drive')"
   ]
  },
  {
   "cell_type": "code",
   "execution_count": null,
   "metadata": {
    "colab": {
     "base_uri": "https://localhost:8080/"
    },
    "id": "ddr6O1CXlevr",
    "outputId": "da365a39-f7f8-4b84-d72f-3c667a5190cf"
   },
   "outputs": [
    {
     "name": "stdout",
     "output_type": "stream",
     "text": [
      "/content/drive/MyDrive/Colab Notebooks/NER/Balance Dataset\n"
     ]
    }
   ],
   "source": [
    "cd drive/MyDrive/Colab Notebooks/NER/Balance Dataset"
   ]
  },
  {
   "cell_type": "code",
   "execution_count": null,
   "metadata": {
    "colab": {
     "base_uri": "https://localhost:8080/"
    },
    "id": "8_PQuLiGlnz5",
    "outputId": "2d146582-fc18-43a4-f02b-ea64a2adb5a7"
   },
   "outputs": [
    {
     "name": "stdout",
     "output_type": "stream",
     "text": [
      "balanced_dataset_ner.csv         sent_type_info.csv\n",
      "corpus_for_ner_cleaned_ver3.csv  sent_type_info_union.csv\n",
      "sent_type_count_add1.csv         test_balance_dataset_1.ipynb\n",
      "sent_type_count.csv              test_balance_dataset_2.ipynb\n",
      "sent_type_count_union.csv        test_balance_dataset_3.ipynb\n",
      "sent_type_info_add1.csv\n"
     ]
    }
   ],
   "source": [
    "ls"
   ]
  },
  {
   "cell_type": "code",
   "execution_count": null,
   "metadata": {
    "id": "Y7L9dTdUmB47"
   },
   "outputs": [],
   "source": [
    "import pandas as pd\n",
    "import json\n",
    "import time\n",
    "\n",
    "start_time = time.time()"
   ]
  },
  {
   "cell_type": "code",
   "execution_count": null,
   "metadata": {
    "id": "2Zx9HAxmLDy6"
   },
   "outputs": [],
   "source": [
    "df = pd.read_csv('corpus_for_ner_cleaned_ver3.csv')"
   ]
  },
  {
   "cell_type": "code",
   "execution_count": null,
   "metadata": {
    "id": "UOcjT31KhFrp"
   },
   "outputs": [],
   "source": [
    "df['tag'] =  df['flag'].apply(lambda x: x[3:-1])"
   ]
  },
  {
   "cell_type": "code",
   "execution_count": null,
   "metadata": {
    "colab": {
     "base_uri": "https://localhost:8080/",
     "height": 206
    },
    "id": "-rWgQ7dVhDG6",
    "outputId": "82a83a3c-8e79-49e1-f370-2b758e66baeb"
   },
   "outputs": [
    {
     "data": {
      "text/html": [
       "\n",
       "  <div id=\"df-84a9b4be-3d98-48ec-a865-6af53f431c2f\">\n",
       "    <div class=\"colab-df-container\">\n",
       "      <div>\n",
       "<style scoped>\n",
       "    .dataframe tbody tr th:only-of-type {\n",
       "        vertical-align: middle;\n",
       "    }\n",
       "\n",
       "    .dataframe tbody tr th {\n",
       "        vertical-align: top;\n",
       "    }\n",
       "\n",
       "    .dataframe thead th {\n",
       "        text-align: right;\n",
       "    }\n",
       "</style>\n",
       "<table border=\"1\" class=\"dataframe\">\n",
       "  <thead>\n",
       "    <tr style=\"text-align: right;\">\n",
       "      <th></th>\n",
       "      <th>Unnamed: 0</th>\n",
       "      <th>Unnamed: 0.1</th>\n",
       "      <th>Unnamed: 0.1.1</th>\n",
       "      <th>sent_number</th>\n",
       "      <th>sent_tokens</th>\n",
       "      <th>flag</th>\n",
       "      <th>tag</th>\n",
       "    </tr>\n",
       "  </thead>\n",
       "  <tbody>\n",
       "    <tr>\n",
       "      <th>0</th>\n",
       "      <td>0</td>\n",
       "      <td>0</td>\n",
       "      <td>0</td>\n",
       "      <td>sentence 0</td>\n",
       "      <td>angiotensin_converting_enzyme</td>\n",
       "      <td>'B-GENE_OR_GENOME'</td>\n",
       "      <td>GENE_OR_GENOME</td>\n",
       "    </tr>\n",
       "    <tr>\n",
       "      <th>1</th>\n",
       "      <td>1</td>\n",
       "      <td>1</td>\n",
       "      <td>1</td>\n",
       "      <td>sentence 0</td>\n",
       "      <td>2</td>\n",
       "      <td>'I-GENE_OR_GENOME'</td>\n",
       "      <td>GENE_OR_GENOME</td>\n",
       "    </tr>\n",
       "    <tr>\n",
       "      <th>2</th>\n",
       "      <td>2</td>\n",
       "      <td>2</td>\n",
       "      <td>2</td>\n",
       "      <td>sentence 0</td>\n",
       "      <td>(</td>\n",
       "      <td>O</td>\n",
       "      <td></td>\n",
       "    </tr>\n",
       "    <tr>\n",
       "      <th>3</th>\n",
       "      <td>3</td>\n",
       "      <td>3</td>\n",
       "      <td>3</td>\n",
       "      <td>sentence 0</td>\n",
       "      <td>ace2</td>\n",
       "      <td>'B-GENE_OR_GENOME'</td>\n",
       "      <td>GENE_OR_GENOME</td>\n",
       "    </tr>\n",
       "    <tr>\n",
       "      <th>4</th>\n",
       "      <td>4</td>\n",
       "      <td>4</td>\n",
       "      <td>4</td>\n",
       "      <td>sentence 0</td>\n",
       "      <td>)</td>\n",
       "      <td>O</td>\n",
       "      <td></td>\n",
       "    </tr>\n",
       "  </tbody>\n",
       "</table>\n",
       "</div>\n",
       "      <button class=\"colab-df-convert\" onclick=\"convertToInteractive('df-84a9b4be-3d98-48ec-a865-6af53f431c2f')\"\n",
       "              title=\"Convert this dataframe to an interactive table.\"\n",
       "              style=\"display:none;\">\n",
       "        \n",
       "  <svg xmlns=\"http://www.w3.org/2000/svg\" height=\"24px\"viewBox=\"0 0 24 24\"\n",
       "       width=\"24px\">\n",
       "    <path d=\"M0 0h24v24H0V0z\" fill=\"none\"/>\n",
       "    <path d=\"M18.56 5.44l.94 2.06.94-2.06 2.06-.94-2.06-.94-.94-2.06-.94 2.06-2.06.94zm-11 1L8.5 8.5l.94-2.06 2.06-.94-2.06-.94L8.5 2.5l-.94 2.06-2.06.94zm10 10l.94 2.06.94-2.06 2.06-.94-2.06-.94-.94-2.06-.94 2.06-2.06.94z\"/><path d=\"M17.41 7.96l-1.37-1.37c-.4-.4-.92-.59-1.43-.59-.52 0-1.04.2-1.43.59L10.3 9.45l-7.72 7.72c-.78.78-.78 2.05 0 2.83L4 21.41c.39.39.9.59 1.41.59.51 0 1.02-.2 1.41-.59l7.78-7.78 2.81-2.81c.8-.78.8-2.07 0-2.86zM5.41 20L4 18.59l7.72-7.72 1.47 1.35L5.41 20z\"/>\n",
       "  </svg>\n",
       "      </button>\n",
       "      \n",
       "  <style>\n",
       "    .colab-df-container {\n",
       "      display:flex;\n",
       "      flex-wrap:wrap;\n",
       "      gap: 12px;\n",
       "    }\n",
       "\n",
       "    .colab-df-convert {\n",
       "      background-color: #E8F0FE;\n",
       "      border: none;\n",
       "      border-radius: 50%;\n",
       "      cursor: pointer;\n",
       "      display: none;\n",
       "      fill: #1967D2;\n",
       "      height: 32px;\n",
       "      padding: 0 0 0 0;\n",
       "      width: 32px;\n",
       "    }\n",
       "\n",
       "    .colab-df-convert:hover {\n",
       "      background-color: #E2EBFA;\n",
       "      box-shadow: 0px 1px 2px rgba(60, 64, 67, 0.3), 0px 1px 3px 1px rgba(60, 64, 67, 0.15);\n",
       "      fill: #174EA6;\n",
       "    }\n",
       "\n",
       "    [theme=dark] .colab-df-convert {\n",
       "      background-color: #3B4455;\n",
       "      fill: #D2E3FC;\n",
       "    }\n",
       "\n",
       "    [theme=dark] .colab-df-convert:hover {\n",
       "      background-color: #434B5C;\n",
       "      box-shadow: 0px 1px 3px 1px rgba(0, 0, 0, 0.15);\n",
       "      filter: drop-shadow(0px 1px 2px rgba(0, 0, 0, 0.3));\n",
       "      fill: #FFFFFF;\n",
       "    }\n",
       "  </style>\n",
       "\n",
       "      <script>\n",
       "        const buttonEl =\n",
       "          document.querySelector('#df-84a9b4be-3d98-48ec-a865-6af53f431c2f button.colab-df-convert');\n",
       "        buttonEl.style.display =\n",
       "          google.colab.kernel.accessAllowed ? 'block' : 'none';\n",
       "\n",
       "        async function convertToInteractive(key) {\n",
       "          const element = document.querySelector('#df-84a9b4be-3d98-48ec-a865-6af53f431c2f');\n",
       "          const dataTable =\n",
       "            await google.colab.kernel.invokeFunction('convertToInteractive',\n",
       "                                                     [key], {});\n",
       "          if (!dataTable) return;\n",
       "\n",
       "          const docLinkHtml = 'Like what you see? Visit the ' +\n",
       "            '<a target=\"_blank\" href=https://colab.research.google.com/notebooks/data_table.ipynb>data table notebook</a>'\n",
       "            + ' to learn more about interactive tables.';\n",
       "          element.innerHTML = '';\n",
       "          dataTable['output_type'] = 'display_data';\n",
       "          await google.colab.output.renderOutput(dataTable, element);\n",
       "          const docLink = document.createElement('div');\n",
       "          docLink.innerHTML = docLinkHtml;\n",
       "          element.appendChild(docLink);\n",
       "        }\n",
       "      </script>\n",
       "    </div>\n",
       "  </div>\n",
       "  "
      ],
      "text/plain": [
       "   Unnamed: 0  Unnamed: 0.1  Unnamed: 0.1.1 sent_number  \\\n",
       "0           0             0               0  sentence 0   \n",
       "1           1             1               1  sentence 0   \n",
       "2           2             2               2  sentence 0   \n",
       "3           3             3               3  sentence 0   \n",
       "4           4             4               4  sentence 0   \n",
       "\n",
       "                     sent_tokens                flag             tag  \n",
       "0  angiotensin_converting_enzyme  'B-GENE_OR_GENOME'  GENE_OR_GENOME  \n",
       "1                              2  'I-GENE_OR_GENOME'  GENE_OR_GENOME  \n",
       "2                              (                   O                  \n",
       "3                           ace2  'B-GENE_OR_GENOME'  GENE_OR_GENOME  \n",
       "4                              )                   O                  "
      ]
     },
     "execution_count": 7,
     "metadata": {},
     "output_type": "execute_result"
    }
   ],
   "source": [
    "df.head()"
   ]
  },
  {
   "cell_type": "code",
   "execution_count": null,
   "metadata": {
    "id": "T-2N_R-ilEKM"
   },
   "outputs": [],
   "source": [
    "# all possible 63 types\n",
    "\n",
    "all_types = [\n",
    "'ARCHAEON','PHYSICAL_SCIENCE','EDUCATIONAL_ACTIVITY','GROUP_ATTRIBUTE','MACHINE_ACTIVITY',\n",
    "'LANGUAGE','INJURY_OR_POISONING','WORK_OF_ART','INDIVIDUAL_BEHAVIOR','EVENT',\n",
    "'HUMAN-CAUSED_PHENOMENON_OR_PROCESS','BACTERIUM','GOVERNMENTAL_OR_REGULATORY_ACTIVITY','ANATOMICAL_STRUCTURE','MATERIAL',\n",
    "'SOCIAL_BEHAVIOR','VIRAL_PROTEIN','PERCENT','DAILY_OR_RECREATIONAL_ACTIVITY','ORGAN_OR_TISSUE_FUNCTION',\n",
    "'LOC','FAC','LAW','WILDLIFE','CELL_OR_MOLECULAR_DYSFUNCTION',\n",
    "'MONEY','EXPERIMENTAL_MODEL_OF_DISEASE','FOOD','EVOLUTION','LABORATORY_OR_TEST_RESULT',\n",
    "'DIAGNOSTIC_PROCEDURE','RESEARCH_ACTIVITY','PRODUCT','NORP','SUBSTRATE',\n",
    "'CORONAVIRUS','CELL_FUNCTION','ORDINAL','BODY_SUBSTANCE','IMMUNE_RESPONSE',\n",
    "'LIVESTOCK','TIME','SIGN_OR_SYMPTOM','VIRUS','MOLECULAR_FUNCTION',\n",
    "'LABORATORY_PROCEDURE','EUKARYOTE','BODY_PART_ORGAN_OR_ORGAN_COMPONENT','THERAPEUTIC_OR_PREVENTIVE_PROCEDURE','QUANTITY',\n",
    "'GPE','CELL_COMPONENT','TISSUE','ORGANISM','PERSON',\n",
    "'CELL','GROUP','ORG','CARDINAL','DATE',\n",
    "'DISEASE_OR_SYNDROME','CHEMICAL','GENE_OR_GENOME'\n",
    "]"
   ]
  },
  {
   "cell_type": "code",
   "execution_count": null,
   "metadata": {
    "id": "NdPQxpSkiFpo"
   },
   "outputs": [],
   "source": [
    "# taken 25 types\n",
    "\n",
    "taken_types = [\n",
    "'INJURY_OR_POISONING','BACTERIUM','LOC','VIRUS','FAC',\n",
    "'CORONAVIRUS','FOOD','LIVESTOCK','NORP','SUBSTRATE',\n",
    "'IMMUNE_RESPONSE','BODY_SUBSTANCE','EUKARYOTE','SIGN_OR_SYMPTOM','BODY_PART_ORGAN_OR_ORGAN_COMPONENT',\n",
    "'GPE','TISSUE','ORGANISM','CELL','ORG',\n",
    "'GROUP','CARDINAL','DISEASE_OR_SYNDROME','GENE_OR_GENOME','CHEMICAL'\n",
    "]"
   ]
  },
  {
   "cell_type": "code",
   "execution_count": null,
   "metadata": {
    "colab": {
     "base_uri": "https://localhost:8080/"
    },
    "id": "U12VGHvClJg1",
    "outputId": "25115f94-683c-4224-d6c6-745a73b8fcf2"
   },
   "outputs": [
    {
     "name": "stdout",
     "output_type": "stream",
     "text": [
      "['ARCHAEON', 'GROUP_ATTRIBUTE', 'CELL_FUNCTION', 'THERAPEUTIC_OR_PREVENTIVE_PROCEDURE', 'INDIVIDUAL_BEHAVIOR']\n"
     ]
    }
   ],
   "source": [
    "# delete remaining types\n",
    "del_types = list(set(all_types) - set(taken_types))\n",
    "\n",
    "print(del_types[0:5])"
   ]
  },
  {
   "cell_type": "code",
   "execution_count": null,
   "metadata": {
    "id": "uzsCHdtSt9pe"
   },
   "outputs": [],
   "source": [
    "# union smaller types' sentences and count all 25 \n",
    "# if it is somehow balance, it is okay"
   ]
  },
  {
   "cell_type": "code",
   "execution_count": null,
   "metadata": {
    "id": "EajdoA8H5NoK"
   },
   "outputs": [],
   "source": [
    "smaller_types = ['INJURY_OR_POISONING', 'BACTERIUM', 'FAC', 'FOOD']"
   ]
  },
  {
   "cell_type": "code",
   "execution_count": null,
   "metadata": {
    "id": "Z9CJagDr5ZaB"
   },
   "outputs": [],
   "source": [
    "# union sent numbers and count \n",
    "\n",
    "union_sent_str = []\n",
    "for entity_type in smaller_types:\n",
    "  sent_str = df[df['tag'] == entity_type]['sent_number'].tolist()\n",
    "  union_sent_str = list(set(union_sent_str + sent_str))"
   ]
  },
  {
   "cell_type": "code",
   "execution_count": null,
   "metadata": {
    "colab": {
     "base_uri": "https://localhost:8080/"
    },
    "id": "SL_0jzCisY8f",
    "outputId": "37246050-b4af-4792-e884-63956389c02c"
   },
   "outputs": [
    {
     "name": "stdout",
     "output_type": "stream",
     "text": [
      "# of sentences:  33211\n"
     ]
    }
   ],
   "source": [
    "print(\"# of sentences: \", len(union_sent_str))"
   ]
  },
  {
   "cell_type": "code",
   "execution_count": null,
   "metadata": {
    "id": "rXPgYeCeWhIA"
   },
   "outputs": [],
   "source": [
    "# try to add more sent # here \n",
    "# union_sent_str = sent col of selected min types\n",
    "\n",
    "# add 3000 SIGN_OR_SYMPTOM\n",
    "add_limit = 3000\n",
    "add_types = ['SIGN_OR_SYMPTOM', 'LOC', 'BODY_SUBSTANCE', 'NORP', \n",
    "             'SUBSTRATE', 'IMMUNE_RESPONSE', 'CORONAVIRUS']\n",
    "\n",
    "add_union_sent_str = []\n",
    "for entity_type in add_types:\n",
    "  sent_str = df[df['tag'] == entity_type]['sent_number'].tolist()[0:3000]\n",
    "  add_union_sent_str = list(set(add_union_sent_str + sent_str))"
   ]
  },
  {
   "cell_type": "code",
   "execution_count": null,
   "metadata": {
    "id": "fe7Kx7fhsenO"
   },
   "outputs": [],
   "source": [
    "union_sent_str = list(set(add_union_sent_str + union_sent_str))"
   ]
  },
  {
   "cell_type": "code",
   "execution_count": null,
   "metadata": {
    "colab": {
     "base_uri": "https://localhost:8080/"
    },
    "id": "I00AovfBsdx2",
    "outputId": "65c45dd0-ca5e-438a-bfd0-6882cfeecfdd"
   },
   "outputs": [
    {
     "name": "stdout",
     "output_type": "stream",
     "text": [
      "# of sentences:  50557\n"
     ]
    }
   ],
   "source": [
    "print(\"# of sentences: \", len(union_sent_str))"
   ]
  },
  {
   "cell_type": "code",
   "execution_count": null,
   "metadata": {
    "id": "LNn-tf0j7bwh"
   },
   "outputs": [],
   "source": [
    "# sub_df of all the selected sentence #\n",
    "\n",
    "sub_df = df[df['sent_number'].isin(union_sent_str)]"
   ]
  },
  {
   "cell_type": "code",
   "execution_count": null,
   "metadata": {
    "id": "5lXARpJGWr8e"
   },
   "outputs": [],
   "source": [
    "#### Below part is to check for the statistical info of the sub_df"
   ]
  },
  {
   "cell_type": "code",
   "execution_count": null,
   "metadata": {
    "id": "nP0bVer67quw"
   },
   "outputs": [],
   "source": [
    "sent_type_df = pd.DataFrame()\n",
    "\n",
    "count_df = pd.DataFrame()"
   ]
  },
  {
   "cell_type": "code",
   "execution_count": null,
   "metadata": {
    "id": "BI0V_yRS7s9I"
   },
   "outputs": [],
   "source": [
    "for entity_type in taken_types:\n",
    "  sent_str = list(set(sub_df[sub_df['tag'] == entity_type]['sent_number'].tolist()))\n",
    "  sent_int = [int(sent_id[9:]) for sent_id in sent_str]\n",
    "  sent_type_df[entity_type] = pd.Series(sent_int)\n",
    "\n",
    "  count_df[entity_type] = pd.Series(len(sent_int))"
   ]
  },
  {
   "cell_type": "code",
   "execution_count": null,
   "metadata": {
    "colab": {
     "base_uri": "https://localhost:8080/",
     "height": 299
    },
    "id": "BsabttvU7wzp",
    "outputId": "c06d57b7-fb76-4df6-cbdc-138301a0cd7c"
   },
   "outputs": [
    {
     "data": {
      "text/html": [
       "\n",
       "  <div id=\"df-aae2ebf4-9308-4342-9e19-05a564ad06ae\">\n",
       "    <div class=\"colab-df-container\">\n",
       "      <div>\n",
       "<style scoped>\n",
       "    .dataframe tbody tr th:only-of-type {\n",
       "        vertical-align: middle;\n",
       "    }\n",
       "\n",
       "    .dataframe tbody tr th {\n",
       "        vertical-align: top;\n",
       "    }\n",
       "\n",
       "    .dataframe thead th {\n",
       "        text-align: right;\n",
       "    }\n",
       "</style>\n",
       "<table border=\"1\" class=\"dataframe\">\n",
       "  <thead>\n",
       "    <tr style=\"text-align: right;\">\n",
       "      <th></th>\n",
       "      <th>INJURY_OR_POISONING</th>\n",
       "      <th>BACTERIUM</th>\n",
       "      <th>LOC</th>\n",
       "      <th>VIRUS</th>\n",
       "      <th>FAC</th>\n",
       "      <th>CORONAVIRUS</th>\n",
       "      <th>FOOD</th>\n",
       "      <th>LIVESTOCK</th>\n",
       "      <th>NORP</th>\n",
       "      <th>SUBSTRATE</th>\n",
       "      <th>...</th>\n",
       "      <th>GPE</th>\n",
       "      <th>TISSUE</th>\n",
       "      <th>ORGANISM</th>\n",
       "      <th>CELL</th>\n",
       "      <th>ORG</th>\n",
       "      <th>GROUP</th>\n",
       "      <th>CARDINAL</th>\n",
       "      <th>DISEASE_OR_SYNDROME</th>\n",
       "      <th>GENE_OR_GENOME</th>\n",
       "      <th>CHEMICAL</th>\n",
       "    </tr>\n",
       "  </thead>\n",
       "  <tbody>\n",
       "    <tr>\n",
       "      <th>0</th>\n",
       "      <td>2005155</td>\n",
       "      <td>2501365</td>\n",
       "      <td>388192.0</td>\n",
       "      <td>1189983.0</td>\n",
       "      <td>908720</td>\n",
       "      <td>850467</td>\n",
       "      <td>1111624</td>\n",
       "      <td>2277795.0</td>\n",
       "      <td>2412020.0</td>\n",
       "      <td>2005155.0</td>\n",
       "      <td>...</td>\n",
       "      <td>1607405</td>\n",
       "      <td>850467.0</td>\n",
       "      <td>35109</td>\n",
       "      <td>132208</td>\n",
       "      <td>1111624</td>\n",
       "      <td>2091009</td>\n",
       "      <td>35109</td>\n",
       "      <td>27725</td>\n",
       "      <td>2501365</td>\n",
       "      <td>27725</td>\n",
       "    </tr>\n",
       "    <tr>\n",
       "      <th>1</th>\n",
       "      <td>1110951</td>\n",
       "      <td>2649007</td>\n",
       "      <td>103817.0</td>\n",
       "      <td>1271731.0</td>\n",
       "      <td>2091009</td>\n",
       "      <td>22521</td>\n",
       "      <td>2002672</td>\n",
       "      <td>2412020.0</td>\n",
       "      <td>166136.0</td>\n",
       "      <td>35109.0</td>\n",
       "      <td>...</td>\n",
       "      <td>1110951</td>\n",
       "      <td>1549746.0</td>\n",
       "      <td>908720</td>\n",
       "      <td>148110</td>\n",
       "      <td>908720</td>\n",
       "      <td>22521</td>\n",
       "      <td>2872086</td>\n",
       "      <td>1111624</td>\n",
       "      <td>148110</td>\n",
       "      <td>2501365</td>\n",
       "    </tr>\n",
       "    <tr>\n",
       "      <th>2</th>\n",
       "      <td>2277795</td>\n",
       "      <td>2344212</td>\n",
       "      <td>197865.0</td>\n",
       "      <td>81526.0</td>\n",
       "      <td>1549746</td>\n",
       "      <td>1347</td>\n",
       "      <td>2692661</td>\n",
       "      <td>81526.0</td>\n",
       "      <td>81526.0</td>\n",
       "      <td>196927.0</td>\n",
       "      <td>...</td>\n",
       "      <td>1090773</td>\n",
       "      <td>2798669.0</td>\n",
       "      <td>164936</td>\n",
       "      <td>1549746</td>\n",
       "      <td>164936</td>\n",
       "      <td>2798669</td>\n",
       "      <td>2344212</td>\n",
       "      <td>22521</td>\n",
       "      <td>164936</td>\n",
       "      <td>148110</td>\n",
       "    </tr>\n",
       "    <tr>\n",
       "      <th>3</th>\n",
       "      <td>2800312</td>\n",
       "      <td>157118</td>\n",
       "      <td>410787.0</td>\n",
       "      <td>769947.0</td>\n",
       "      <td>1139949</td>\n",
       "      <td>2405</td>\n",
       "      <td>2872086</td>\n",
       "      <td>2628209.0</td>\n",
       "      <td>303.0</td>\n",
       "      <td>2063911.0</td>\n",
       "      <td>...</td>\n",
       "      <td>234029</td>\n",
       "      <td>157118.0</td>\n",
       "      <td>2344212</td>\n",
       "      <td>1727982</td>\n",
       "      <td>1727982</td>\n",
       "      <td>186966</td>\n",
       "      <td>208054</td>\n",
       "      <td>1549746</td>\n",
       "      <td>769947</td>\n",
       "      <td>164936</td>\n",
       "    </tr>\n",
       "    <tr>\n",
       "      <th>4</th>\n",
       "      <td>641644</td>\n",
       "      <td>2510135</td>\n",
       "      <td>440070.0</td>\n",
       "      <td>1911550.0</td>\n",
       "      <td>1004502</td>\n",
       "      <td>2336395</td>\n",
       "      <td>2694283</td>\n",
       "      <td>1327668.0</td>\n",
       "      <td>127601.0</td>\n",
       "      <td>23976.0</td>\n",
       "      <td>...</td>\n",
       "      <td>2048614</td>\n",
       "      <td>2068623.0</td>\n",
       "      <td>769947</td>\n",
       "      <td>1472722</td>\n",
       "      <td>259462</td>\n",
       "      <td>23976</td>\n",
       "      <td>2694283</td>\n",
       "      <td>1765073</td>\n",
       "      <td>127601</td>\n",
       "      <td>1765073</td>\n",
       "    </tr>\n",
       "  </tbody>\n",
       "</table>\n",
       "<p>5 rows × 25 columns</p>\n",
       "</div>\n",
       "      <button class=\"colab-df-convert\" onclick=\"convertToInteractive('df-aae2ebf4-9308-4342-9e19-05a564ad06ae')\"\n",
       "              title=\"Convert this dataframe to an interactive table.\"\n",
       "              style=\"display:none;\">\n",
       "        \n",
       "  <svg xmlns=\"http://www.w3.org/2000/svg\" height=\"24px\"viewBox=\"0 0 24 24\"\n",
       "       width=\"24px\">\n",
       "    <path d=\"M0 0h24v24H0V0z\" fill=\"none\"/>\n",
       "    <path d=\"M18.56 5.44l.94 2.06.94-2.06 2.06-.94-2.06-.94-.94-2.06-.94 2.06-2.06.94zm-11 1L8.5 8.5l.94-2.06 2.06-.94-2.06-.94L8.5 2.5l-.94 2.06-2.06.94zm10 10l.94 2.06.94-2.06 2.06-.94-2.06-.94-.94-2.06-.94 2.06-2.06.94z\"/><path d=\"M17.41 7.96l-1.37-1.37c-.4-.4-.92-.59-1.43-.59-.52 0-1.04.2-1.43.59L10.3 9.45l-7.72 7.72c-.78.78-.78 2.05 0 2.83L4 21.41c.39.39.9.59 1.41.59.51 0 1.02-.2 1.41-.59l7.78-7.78 2.81-2.81c.8-.78.8-2.07 0-2.86zM5.41 20L4 18.59l7.72-7.72 1.47 1.35L5.41 20z\"/>\n",
       "  </svg>\n",
       "      </button>\n",
       "      \n",
       "  <style>\n",
       "    .colab-df-container {\n",
       "      display:flex;\n",
       "      flex-wrap:wrap;\n",
       "      gap: 12px;\n",
       "    }\n",
       "\n",
       "    .colab-df-convert {\n",
       "      background-color: #E8F0FE;\n",
       "      border: none;\n",
       "      border-radius: 50%;\n",
       "      cursor: pointer;\n",
       "      display: none;\n",
       "      fill: #1967D2;\n",
       "      height: 32px;\n",
       "      padding: 0 0 0 0;\n",
       "      width: 32px;\n",
       "    }\n",
       "\n",
       "    .colab-df-convert:hover {\n",
       "      background-color: #E2EBFA;\n",
       "      box-shadow: 0px 1px 2px rgba(60, 64, 67, 0.3), 0px 1px 3px 1px rgba(60, 64, 67, 0.15);\n",
       "      fill: #174EA6;\n",
       "    }\n",
       "\n",
       "    [theme=dark] .colab-df-convert {\n",
       "      background-color: #3B4455;\n",
       "      fill: #D2E3FC;\n",
       "    }\n",
       "\n",
       "    [theme=dark] .colab-df-convert:hover {\n",
       "      background-color: #434B5C;\n",
       "      box-shadow: 0px 1px 3px 1px rgba(0, 0, 0, 0.15);\n",
       "      filter: drop-shadow(0px 1px 2px rgba(0, 0, 0, 0.3));\n",
       "      fill: #FFFFFF;\n",
       "    }\n",
       "  </style>\n",
       "\n",
       "      <script>\n",
       "        const buttonEl =\n",
       "          document.querySelector('#df-aae2ebf4-9308-4342-9e19-05a564ad06ae button.colab-df-convert');\n",
       "        buttonEl.style.display =\n",
       "          google.colab.kernel.accessAllowed ? 'block' : 'none';\n",
       "\n",
       "        async function convertToInteractive(key) {\n",
       "          const element = document.querySelector('#df-aae2ebf4-9308-4342-9e19-05a564ad06ae');\n",
       "          const dataTable =\n",
       "            await google.colab.kernel.invokeFunction('convertToInteractive',\n",
       "                                                     [key], {});\n",
       "          if (!dataTable) return;\n",
       "\n",
       "          const docLinkHtml = 'Like what you see? Visit the ' +\n",
       "            '<a target=\"_blank\" href=https://colab.research.google.com/notebooks/data_table.ipynb>data table notebook</a>'\n",
       "            + ' to learn more about interactive tables.';\n",
       "          element.innerHTML = '';\n",
       "          dataTable['output_type'] = 'display_data';\n",
       "          await google.colab.output.renderOutput(dataTable, element);\n",
       "          const docLink = document.createElement('div');\n",
       "          docLink.innerHTML = docLinkHtml;\n",
       "          element.appendChild(docLink);\n",
       "        }\n",
       "      </script>\n",
       "    </div>\n",
       "  </div>\n",
       "  "
      ],
      "text/plain": [
       "   INJURY_OR_POISONING  BACTERIUM       LOC      VIRUS      FAC  CORONAVIRUS  \\\n",
       "0              2005155    2501365  388192.0  1189983.0   908720       850467   \n",
       "1              1110951    2649007  103817.0  1271731.0  2091009        22521   \n",
       "2              2277795    2344212  197865.0    81526.0  1549746         1347   \n",
       "3              2800312     157118  410787.0   769947.0  1139949         2405   \n",
       "4               641644    2510135  440070.0  1911550.0  1004502      2336395   \n",
       "\n",
       "      FOOD  LIVESTOCK       NORP  SUBSTRATE  ...      GPE     TISSUE  \\\n",
       "0  1111624  2277795.0  2412020.0  2005155.0  ...  1607405   850467.0   \n",
       "1  2002672  2412020.0   166136.0    35109.0  ...  1110951  1549746.0   \n",
       "2  2692661    81526.0    81526.0   196927.0  ...  1090773  2798669.0   \n",
       "3  2872086  2628209.0      303.0  2063911.0  ...   234029   157118.0   \n",
       "4  2694283  1327668.0   127601.0    23976.0  ...  2048614  2068623.0   \n",
       "\n",
       "   ORGANISM     CELL      ORG    GROUP  CARDINAL  DISEASE_OR_SYNDROME  \\\n",
       "0     35109   132208  1111624  2091009     35109                27725   \n",
       "1    908720   148110   908720    22521   2872086              1111624   \n",
       "2    164936  1549746   164936  2798669   2344212                22521   \n",
       "3   2344212  1727982  1727982   186966    208054              1549746   \n",
       "4    769947  1472722   259462    23976   2694283              1765073   \n",
       "\n",
       "   GENE_OR_GENOME  CHEMICAL  \n",
       "0         2501365     27725  \n",
       "1          148110   2501365  \n",
       "2          164936    148110  \n",
       "3          769947    164936  \n",
       "4          127601   1765073  \n",
       "\n",
       "[5 rows x 25 columns]"
      ]
     },
     "execution_count": 22,
     "metadata": {},
     "output_type": "execute_result"
    }
   ],
   "source": [
    "sent_type_df.head()"
   ]
  },
  {
   "cell_type": "code",
   "execution_count": null,
   "metadata": {
    "id": "Q94i2PS0wwlt"
   },
   "outputs": [],
   "source": [
    "selected_df = sub_df[['sent_number', 'sent_tokens', 'flag']]"
   ]
  },
  {
   "cell_type": "code",
   "execution_count": null,
   "metadata": {
    "colab": {
     "base_uri": "https://localhost:8080/"
    },
    "id": "H09omU52lePU",
    "outputId": "8ed262bc-b0a2-4d3b-e7ef-e29ae3cd332c"
   },
   "outputs": [
    {
     "name": "stderr",
     "output_type": "stream",
     "text": [
      "/usr/local/lib/python3.7/dist-packages/ipykernel_launcher.py:1: SettingWithCopyWarning: \n",
      "A value is trying to be set on a copy of a slice from a DataFrame.\n",
      "Try using .loc[row_indexer,col_indexer] = value instead\n",
      "\n",
      "See the caveats in the documentation: https://pandas.pydata.org/pandas-docs/stable/user_guide/indexing.html#returning-a-view-versus-a-copy\n",
      "  \"\"\"Entry point for launching an IPython kernel.\n",
      "/usr/local/lib/python3.7/dist-packages/pandas/core/frame.py:4913: SettingWithCopyWarning: \n",
      "A value is trying to be set on a copy of a slice from a DataFrame\n",
      "\n",
      "See the caveats in the documentation: https://pandas.pydata.org/pandas-docs/stable/user_guide/indexing.html#returning-a-view-versus-a-copy\n",
      "  errors=errors,\n"
     ]
    }
   ],
   "source": [
    "selected_df['flag'] =  selected_df['flag'].apply(lambda x: 'del' if (x[3:-1] in del_types) else x)\n",
    "selected_df.drop(selected_df[selected_df.flag == 'del'].index, inplace=True)"
   ]
  },
  {
   "cell_type": "code",
   "execution_count": null,
   "metadata": {
    "id": "x77N2ZULxCX0"
   },
   "outputs": [],
   "source": [
    "selected_df.to_csv('balanced_dataset_ner.csv')"
   ]
  },
  {
   "cell_type": "code",
   "execution_count": null,
   "metadata": {
    "id": "eDmz71hZvyS1"
   },
   "outputs": [],
   "source": [
    "sent_type_df.to_csv('sent_type_info_add1.csv')\n",
    "\n",
    "count_df.to_csv('sent_type_count_add1.csv')"
   ]
  },
  {
   "cell_type": "code",
   "execution_count": null,
   "metadata": {
    "colab": {
     "base_uri": "https://localhost:8080/"
    },
    "id": "bXWPb5c110ma",
    "outputId": "e8eca490-7457-4839-e5e8-398029cb5b30"
   },
   "outputs": [
    {
     "name": "stdout",
     "output_type": "stream",
     "text": [
      "Estimate runtime:  2.168568825721741  minutes.\n"
     ]
    }
   ],
   "source": [
    "end_time = time.time()\n",
    "\n",
    "estimate_runtime = round((end_time-start_time)/60)\n",
    "print('Estimate runtime: ', (end_time-start_time)/60, ' minutes.')"
   ]
  },
  {
   "cell_type": "code",
   "execution_count": null,
   "metadata": {
    "id": "O_r5lj4Aiqyi"
   },
   "outputs": [],
   "source": [
    "# Estimate runtime:   2.2063471992810566  minutes."
   ]
  }
 ],
 "metadata": {
  "colab": {
   "collapsed_sections": [],
   "name": "test_balance_dataset_3.ipynb",
   "provenance": []
  },
  "kernelspec": {
   "display_name": "Python 3",
   "language": "python",
   "name": "python3"
  },
  "language_info": {
   "codemirror_mode": {
    "name": "ipython",
    "version": 3
   },
   "file_extension": ".py",
   "mimetype": "text/x-python",
   "name": "python",
   "nbconvert_exporter": "python",
   "pygments_lexer": "ipython3",
   "version": "3.8.3"
  }
 },
 "nbformat": 4,
 "nbformat_minor": 1
}
