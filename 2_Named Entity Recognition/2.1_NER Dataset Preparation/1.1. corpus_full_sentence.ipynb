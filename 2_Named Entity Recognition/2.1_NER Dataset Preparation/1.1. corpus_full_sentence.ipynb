{
 "cells": [
  {
   "cell_type": "markdown",
   "metadata": {},
   "source": [
    "### 1.1. Explode CORD-NER-corpus.json file to dataframe (.csv)\n",
    "- Since the dataset is too big, this is done in segments."
   ]
  },
  {
   "cell_type": "code",
   "execution_count": null,
   "metadata": {
    "id": "Y7L9dTdUmB47"
   },
   "outputs": [],
   "source": [
    "import pandas as pd\n",
    "import json\n",
    "import time\n",
    "\n",
    "start_time = time.time()"
   ]
  },
  {
   "cell_type": "code",
   "execution_count": null,
   "metadata": {
    "id": "PRXp5LQqmEv4"
   },
   "outputs": [],
   "source": [
    "with open('CORD-NER-corpus.json', 'r') as myfile:\n",
    "    corpus_data = myfile.read()"
   ]
  },
  {
   "cell_type": "code",
   "execution_count": null,
   "metadata": {
    "id": "Dx-DnRt-mRIQ"
   },
   "outputs": [],
   "source": [
    "corpus_list = corpus_data.split('\\n')"
   ]
  },
  {
   "cell_type": "code",
   "execution_count": null,
   "metadata": {
    "id": "Mx_gY30fqhIy"
   },
   "outputs": [],
   "source": [
    "df = pd.DataFrame()\n",
    "df['doc_id'] = ''\n",
    "df['sent_id'] = ''\n",
    "df['sent_tokens'] = ''\n",
    "df['word_id'] = ''\n",
    "df['tag'] = ''"
   ]
  },
  {
   "cell_type": "code",
   "execution_count": null,
   "metadata": {
    "colab": {
     "base_uri": "https://localhost:8080/"
    },
    "id": "Zh379Au1nE2w",
    "outputId": "2747b97f-ef5e-4da0-d3da-ba6f5db20890"
   },
   "outputs": [
    {
     "name": "stdout",
     "output_type": "stream",
     "text": [
      "idx:  29300  & continuing ... \n",
      "idx:  29400  & continuing ... \n"
     ]
    }
   ],
   "source": [
    "# last element, corpus_list[29500] = '', which is empty. So, go up to len -1\n",
    "for idx in range(29300, len(corpus_list)-1):\n",
    "#for idx in range(29300, 27000):\n",
    "    data = json.loads(corpus_list[idx])\n",
    "    df_1 = pd.DataFrame(data)\n",
    "\n",
    "    # no sentence in doc_id = 18434\n",
    "    if df_1.empty:\n",
    "        continue\n",
    "\n",
    "    df_2 = pd.json_normalize(df_1['sents'])\n",
    "    df_2['word_id'] = df_2['sent_tokens'].apply(lambda x: range(len(x)))\n",
    "    df_explode = df_2.explode(['sent_tokens', 'word_id'])\n",
    "    df_explode['doc_id'] = idx\n",
    "\n",
    "    frames = [df, df_explode]\n",
    "    df = pd.concat(frames)\n",
    "\n",
    "    if ((idx % 100) == 0):\n",
    "        print('idx: ', idx, ' & continuing ... ')"
   ]
  },
  {
   "cell_type": "code",
   "execution_count": null,
   "metadata": {
    "id": "e3zBP0oO3Mey"
   },
   "outputs": [],
   "source": [
    "df['tag'] = 'O'"
   ]
  },
  {
   "cell_type": "code",
   "execution_count": null,
   "metadata": {
    "colab": {
     "base_uri": "https://localhost:8080/",
     "height": 424
    },
    "id": "jsubz05M0vJr",
    "outputId": "ac2b3dde-21d6-45d6-b9c4-7b3dc5f25843"
   },
   "outputs": [
    {
     "data": {
      "text/html": [
       "\n",
       "  <div id=\"df-41c02be5-c284-418a-adea-6ae4c3f1a897\">\n",
       "    <div class=\"colab-df-container\">\n",
       "      <div>\n",
       "<style scoped>\n",
       "    .dataframe tbody tr th:only-of-type {\n",
       "        vertical-align: middle;\n",
       "    }\n",
       "\n",
       "    .dataframe tbody tr th {\n",
       "        vertical-align: top;\n",
       "    }\n",
       "\n",
       "    .dataframe thead th {\n",
       "        text-align: right;\n",
       "    }\n",
       "</style>\n",
       "<table border=\"1\" class=\"dataframe\">\n",
       "  <thead>\n",
       "    <tr style=\"text-align: right;\">\n",
       "      <th></th>\n",
       "      <th>doc_id</th>\n",
       "      <th>sent_id</th>\n",
       "      <th>sent_tokens</th>\n",
       "      <th>word_id</th>\n",
       "      <th>tag</th>\n",
       "    </tr>\n",
       "  </thead>\n",
       "  <tbody>\n",
       "    <tr>\n",
       "      <th>0</th>\n",
       "      <td>29300</td>\n",
       "      <td>0</td>\n",
       "      <td>part</td>\n",
       "      <td>0</td>\n",
       "      <td>O</td>\n",
       "    </tr>\n",
       "    <tr>\n",
       "      <th>0</th>\n",
       "      <td>29300</td>\n",
       "      <td>0</td>\n",
       "      <td>of</td>\n",
       "      <td>1</td>\n",
       "      <td>O</td>\n",
       "    </tr>\n",
       "    <tr>\n",
       "      <th>0</th>\n",
       "      <td>29300</td>\n",
       "      <td>0</td>\n",
       "      <td>containing</td>\n",
       "      <td>2</td>\n",
       "      <td>O</td>\n",
       "    </tr>\n",
       "    <tr>\n",
       "      <th>0</th>\n",
       "      <td>29300</td>\n",
       "      <td>0</td>\n",
       "      <td>infectious_disease</td>\n",
       "      <td>3</td>\n",
       "      <td>O</td>\n",
       "    </tr>\n",
       "    <tr>\n",
       "      <th>0</th>\n",
       "      <td>29300</td>\n",
       "      <td>0</td>\n",
       "      <td>outbreaks</td>\n",
       "      <td>4</td>\n",
       "      <td>O</td>\n",
       "    </tr>\n",
       "    <tr>\n",
       "      <th>...</th>\n",
       "      <td>...</td>\n",
       "      <td>...</td>\n",
       "      <td>...</td>\n",
       "      <td>...</td>\n",
       "      <td>...</td>\n",
       "    </tr>\n",
       "    <tr>\n",
       "      <th>66</th>\n",
       "      <td>29499</td>\n",
       "      <td>66</td>\n",
       "      <td>in</td>\n",
       "      <td>29</td>\n",
       "      <td>O</td>\n",
       "    </tr>\n",
       "    <tr>\n",
       "      <th>66</th>\n",
       "      <td>29499</td>\n",
       "      <td>66</td>\n",
       "      <td>interpreting</td>\n",
       "      <td>30</td>\n",
       "      <td>O</td>\n",
       "    </tr>\n",
       "    <tr>\n",
       "      <th>66</th>\n",
       "      <td>29499</td>\n",
       "      <td>66</td>\n",
       "      <td>this</td>\n",
       "      <td>31</td>\n",
       "      <td>O</td>\n",
       "    </tr>\n",
       "    <tr>\n",
       "      <th>66</th>\n",
       "      <td>29499</td>\n",
       "      <td>66</td>\n",
       "      <td>result</td>\n",
       "      <td>32</td>\n",
       "      <td>O</td>\n",
       "    </tr>\n",
       "    <tr>\n",
       "      <th>66</th>\n",
       "      <td>29499</td>\n",
       "      <td>66</td>\n",
       "      <td>.</td>\n",
       "      <td>33</td>\n",
       "      <td>O</td>\n",
       "    </tr>\n",
       "  </tbody>\n",
       "</table>\n",
       "<p>461128 rows × 5 columns</p>\n",
       "</div>\n",
       "      <button class=\"colab-df-convert\" onclick=\"convertToInteractive('df-41c02be5-c284-418a-adea-6ae4c3f1a897')\"\n",
       "              title=\"Convert this dataframe to an interactive table.\"\n",
       "              style=\"display:none;\">\n",
       "        \n",
       "  <svg xmlns=\"http://www.w3.org/2000/svg\" height=\"24px\"viewBox=\"0 0 24 24\"\n",
       "       width=\"24px\">\n",
       "    <path d=\"M0 0h24v24H0V0z\" fill=\"none\"/>\n",
       "    <path d=\"M18.56 5.44l.94 2.06.94-2.06 2.06-.94-2.06-.94-.94-2.06-.94 2.06-2.06.94zm-11 1L8.5 8.5l.94-2.06 2.06-.94-2.06-.94L8.5 2.5l-.94 2.06-2.06.94zm10 10l.94 2.06.94-2.06 2.06-.94-2.06-.94-.94-2.06-.94 2.06-2.06.94z\"/><path d=\"M17.41 7.96l-1.37-1.37c-.4-.4-.92-.59-1.43-.59-.52 0-1.04.2-1.43.59L10.3 9.45l-7.72 7.72c-.78.78-.78 2.05 0 2.83L4 21.41c.39.39.9.59 1.41.59.51 0 1.02-.2 1.41-.59l7.78-7.78 2.81-2.81c.8-.78.8-2.07 0-2.86zM5.41 20L4 18.59l7.72-7.72 1.47 1.35L5.41 20z\"/>\n",
       "  </svg>\n",
       "      </button>\n",
       "      \n",
       "  <style>\n",
       "    .colab-df-container {\n",
       "      display:flex;\n",
       "      flex-wrap:wrap;\n",
       "      gap: 12px;\n",
       "    }\n",
       "\n",
       "    .colab-df-convert {\n",
       "      background-color: #E8F0FE;\n",
       "      border: none;\n",
       "      border-radius: 50%;\n",
       "      cursor: pointer;\n",
       "      display: none;\n",
       "      fill: #1967D2;\n",
       "      height: 32px;\n",
       "      padding: 0 0 0 0;\n",
       "      width: 32px;\n",
       "    }\n",
       "\n",
       "    .colab-df-convert:hover {\n",
       "      background-color: #E2EBFA;\n",
       "      box-shadow: 0px 1px 2px rgba(60, 64, 67, 0.3), 0px 1px 3px 1px rgba(60, 64, 67, 0.15);\n",
       "      fill: #174EA6;\n",
       "    }\n",
       "\n",
       "    [theme=dark] .colab-df-convert {\n",
       "      background-color: #3B4455;\n",
       "      fill: #D2E3FC;\n",
       "    }\n",
       "\n",
       "    [theme=dark] .colab-df-convert:hover {\n",
       "      background-color: #434B5C;\n",
       "      box-shadow: 0px 1px 3px 1px rgba(0, 0, 0, 0.15);\n",
       "      filter: drop-shadow(0px 1px 2px rgba(0, 0, 0, 0.3));\n",
       "      fill: #FFFFFF;\n",
       "    }\n",
       "  </style>\n",
       "\n",
       "      <script>\n",
       "        const buttonEl =\n",
       "          document.querySelector('#df-41c02be5-c284-418a-adea-6ae4c3f1a897 button.colab-df-convert');\n",
       "        buttonEl.style.display =\n",
       "          google.colab.kernel.accessAllowed ? 'block' : 'none';\n",
       "\n",
       "        async function convertToInteractive(key) {\n",
       "          const element = document.querySelector('#df-41c02be5-c284-418a-adea-6ae4c3f1a897');\n",
       "          const dataTable =\n",
       "            await google.colab.kernel.invokeFunction('convertToInteractive',\n",
       "                                                     [key], {});\n",
       "          if (!dataTable) return;\n",
       "\n",
       "          const docLinkHtml = 'Like what you see? Visit the ' +\n",
       "            '<a target=\"_blank\" href=https://colab.research.google.com/notebooks/data_table.ipynb>data table notebook</a>'\n",
       "            + ' to learn more about interactive tables.';\n",
       "          element.innerHTML = '';\n",
       "          dataTable['output_type'] = 'display_data';\n",
       "          await google.colab.output.renderOutput(dataTable, element);\n",
       "          const docLink = document.createElement('div');\n",
       "          docLink.innerHTML = docLinkHtml;\n",
       "          element.appendChild(docLink);\n",
       "        }\n",
       "      </script>\n",
       "    </div>\n",
       "  </div>\n",
       "  "
      ],
      "text/plain": [
       "   doc_id sent_id         sent_tokens word_id tag\n",
       "0   29300       0                part       0   O\n",
       "0   29300       0                  of       1   O\n",
       "0   29300       0          containing       2   O\n",
       "0   29300       0  infectious_disease       3   O\n",
       "0   29300       0           outbreaks       4   O\n",
       "..    ...     ...                 ...     ...  ..\n",
       "66  29499      66                  in      29   O\n",
       "66  29499      66        interpreting      30   O\n",
       "66  29499      66                this      31   O\n",
       "66  29499      66              result      32   O\n",
       "66  29499      66                   .      33   O\n",
       "\n",
       "[461128 rows x 5 columns]"
      ]
     },
     "execution_count": 75,
     "metadata": {},
     "output_type": "execute_result"
    }
   ],
   "source": [
    "df"
   ]
  },
  {
   "cell_type": "code",
   "execution_count": null,
   "metadata": {
    "colab": {
     "base_uri": "https://localhost:8080/"
    },
    "id": "bXWPb5c110ma",
    "outputId": "da7e8d1f-2b07-42b2-bc39-51bc7720a28e"
   },
   "outputs": [
    {
     "name": "stdout",
     "output_type": "stream",
     "text": [
      "Estimate runtime:  0.9166793107986451  minutes.\n"
     ]
    }
   ],
   "source": [
    "end_time = time.time()\n",
    "\n",
    "estimate_runtime = round((end_time-start_time)/60)\n",
    "print('Estimate runtime: ', (end_time-start_time)/60, ' minutes.')"
   ]
  },
  {
   "cell_type": "code",
   "execution_count": null,
   "metadata": {
    "id": "ixAuYLzR1yce"
   },
   "outputs": [],
   "source": [
    "file_name = 'corpus_without_tag_29300-end_' + str(estimate_runtime) + 'min.csv'\n",
    "df.to_csv(file_name)"
   ]
  }
 ],
 "metadata": {
  "colab": {
   "collapsed_sections": [],
   "name": "faster_approach_copy_4.ipynb",
   "provenance": []
  },
  "kernelspec": {
   "display_name": "Python 3",
   "language": "python",
   "name": "python3"
  },
  "language_info": {
   "codemirror_mode": {
    "name": "ipython",
    "version": 3
   },
   "file_extension": ".py",
   "mimetype": "text/x-python",
   "name": "python",
   "nbconvert_exporter": "python",
   "pygments_lexer": "ipython3",
   "version": "3.8.3"
  }
 },
 "nbformat": 4,
 "nbformat_minor": 1
}
