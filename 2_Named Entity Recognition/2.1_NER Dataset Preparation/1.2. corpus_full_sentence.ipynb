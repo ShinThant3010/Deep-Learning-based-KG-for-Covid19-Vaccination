{
 "cells": [
  {
   "cell_type": "markdown",
   "metadata": {},
   "source": [
    "### 1.2. Merge the exploded CORD-NER-corpus.csv files from 1.1."
   ]
  },
  {
   "cell_type": "code",
   "execution_count": null,
   "metadata": {
    "id": "Y7L9dTdUmB47"
   },
   "outputs": [],
   "source": [
    "import pandas as pd\n",
    "import json\n",
    "import time\n",
    "\n",
    "start_time = time.time()"
   ]
  },
  {
   "cell_type": "code",
   "execution_count": null,
   "metadata": {
    "id": "4BD04S7BiSkd"
   },
   "outputs": [],
   "source": [
    "file_list = [\n",
    "             'corpus_without_tag_0-2400_78min.csv', 'corpus_without_tag_2400-3120_31min.csv', 'corpus_without_tag_3120-4000_45min.csv', \n",
    "             'corpus_without_tag_4000-5000_48min.csv', 'corpus_without_tag_5000-7000_201min.csv', 'corpus_without_tag_7000-8165_76min.csv', \n",
    "             'corpus_without_tag_8165-9k_35min.csv', 'corpus_without_tag_9k-10k_46min.csv', 'corpus_without_tag_10k-10500_12min.csv', \n",
    "             'corpus_without_tag_10500-11k_11min.csv', 'corpus_without_tag_11k-11500_12min.csv', 'corpus_without_tag_11500-12700_74min.csv', \n",
    "             'corpus_without_tag_12700-14055_86min.csv', 'corpus_without_tag_14055-15k_35min.csv', 'corpus_without_tag_15k-16k_36min.csv', \n",
    "             'corpus_without_tag_16k-17k_38min.csv', 'corpus_without_tag_17k-18k_22min.csv', 'corpus_without_tag_18k-19k_3min.csv', \n",
    "             'corpus_without_tag_19k-20k_3min.csv', 'corpus_without_tag_20k-21k_3min.csv', 'corpus_without_tag_21k-22k_2min.csv', \n",
    "             'corpus_without_tag_22k-23k_3min.csv', 'corpus_without_tag_23k-24k_2min.csv', 'corpus_without_tag_24k-25k_2min.csv', \n",
    "             'corpus_without_tag_25k-27k_7min.csv', 'corpus_without_tag_27k-29300_34min.csv', 'corpus_without_tag_29300-end_1min.csv'\n",
    "]"
   ]
  },
  {
   "cell_type": "code",
   "execution_count": null,
   "metadata": {
    "id": "2uldssfDjlIX"
   },
   "outputs": [],
   "source": [
    "df = pd.DataFrame()\n",
    "df['doc_id'] = ''\n",
    "df['sent_id'] = ''\n",
    "df['sent_tokens'] = ''\n",
    "df['word_id'] = ''\n",
    "df['tag'] = ''"
   ]
  },
  {
   "cell_type": "code",
   "execution_count": null,
   "metadata": {
    "colab": {
     "base_uri": "https://localhost:8080/"
    },
    "id": "wyZOH-NLjdQg",
    "outputId": "804cd0d0-f910-41e2-e40d-8121a3069002"
   },
   "outputs": [
    {
     "name": "stdout",
     "output_type": "stream",
     "text": [
      "corpus_without_tag_0-2400_78min.csv\n",
      "corpus_without_tag_2400-3120_31min.csv\n",
      "corpus_without_tag_3120-4000_45min.csv\n",
      "corpus_without_tag_4000-5000_48min.csv\n",
      "corpus_without_tag_5000-7000_201min.csv\n",
      "corpus_without_tag_7000-8165_76min.csv\n",
      "corpus_without_tag_8165-9k_35min.csv\n",
      "corpus_without_tag_9k-10k_46min.csv\n",
      "corpus_without_tag_10k-10500_12min.csv\n",
      "corpus_without_tag_10500-11k_11min.csv\n",
      "corpus_without_tag_11k-11500_12min.csv\n",
      "corpus_without_tag_11500-12700_74min.csv\n",
      "corpus_without_tag_12700-14055_86min.csv\n",
      "corpus_without_tag_14055-15k_35min.csv\n",
      "corpus_without_tag_15k-16k_36min.csv\n",
      "corpus_without_tag_16k-17k_38min.csv\n",
      "corpus_without_tag_17k-18k_22min.csv\n",
      "corpus_without_tag_18k-19k_3min.csv\n",
      "corpus_without_tag_19k-20k_3min.csv\n",
      "corpus_without_tag_20k-21k_3min.csv\n",
      "corpus_without_tag_21k-22k_2min.csv\n",
      "corpus_without_tag_22k-23k_3min.csv\n",
      "corpus_without_tag_23k-24k_2min.csv\n",
      "corpus_without_tag_24k-25k_2min.csv\n",
      "corpus_without_tag_25k-27k_7min.csv\n",
      "corpus_without_tag_27k-29300_34min.csv\n",
      "corpus_without_tag_29300-end_1min.csv\n"
     ]
    }
   ],
   "source": [
    "for file in file_list:\n",
    "    print(file)\n",
    "    df_sub = pd.read_csv(file)\n",
    "\n",
    "    frames = [df, df_sub]\n",
    "    df = pd.concat(frames)"
   ]
  },
  {
   "cell_type": "code",
   "execution_count": null,
   "metadata": {
    "colab": {
     "base_uri": "https://localhost:8080/",
     "height": 424
    },
    "id": "QYFMjQcgj2T6",
    "outputId": "01577ee0-63fe-4a8c-ce46-c0f59777cd90"
   },
   "outputs": [
    {
     "data": {
      "text/html": [
       "\n",
       "  <div id=\"df-3de8fa59-73d6-4492-9105-eb6a174d835b\">\n",
       "    <div class=\"colab-df-container\">\n",
       "      <div>\n",
       "<style scoped>\n",
       "    .dataframe tbody tr th:only-of-type {\n",
       "        vertical-align: middle;\n",
       "    }\n",
       "\n",
       "    .dataframe tbody tr th {\n",
       "        vertical-align: top;\n",
       "    }\n",
       "\n",
       "    .dataframe thead th {\n",
       "        text-align: right;\n",
       "    }\n",
       "</style>\n",
       "<table border=\"1\" class=\"dataframe\">\n",
       "  <thead>\n",
       "    <tr style=\"text-align: right;\">\n",
       "      <th></th>\n",
       "      <th>doc_id</th>\n",
       "      <th>sent_id</th>\n",
       "      <th>sent_tokens</th>\n",
       "      <th>word_id</th>\n",
       "      <th>tag</th>\n",
       "      <th>Unnamed: 0</th>\n",
       "    </tr>\n",
       "  </thead>\n",
       "  <tbody>\n",
       "    <tr>\n",
       "      <th>0</th>\n",
       "      <td>0</td>\n",
       "      <td>0</td>\n",
       "      <td>angiotensin_converting_enzyme</td>\n",
       "      <td>0</td>\n",
       "      <td>O</td>\n",
       "      <td>0.0</td>\n",
       "    </tr>\n",
       "    <tr>\n",
       "      <th>1</th>\n",
       "      <td>0</td>\n",
       "      <td>0</td>\n",
       "      <td>2</td>\n",
       "      <td>1</td>\n",
       "      <td>O</td>\n",
       "      <td>0.0</td>\n",
       "    </tr>\n",
       "    <tr>\n",
       "      <th>2</th>\n",
       "      <td>0</td>\n",
       "      <td>0</td>\n",
       "      <td>(</td>\n",
       "      <td>2</td>\n",
       "      <td>O</td>\n",
       "      <td>0.0</td>\n",
       "    </tr>\n",
       "    <tr>\n",
       "      <th>3</th>\n",
       "      <td>0</td>\n",
       "      <td>0</td>\n",
       "      <td>ace2</td>\n",
       "      <td>3</td>\n",
       "      <td>O</td>\n",
       "      <td>0.0</td>\n",
       "    </tr>\n",
       "    <tr>\n",
       "      <th>4</th>\n",
       "      <td>0</td>\n",
       "      <td>0</td>\n",
       "      <td>)</td>\n",
       "      <td>4</td>\n",
       "      <td>O</td>\n",
       "      <td>0.0</td>\n",
       "    </tr>\n",
       "    <tr>\n",
       "      <th>...</th>\n",
       "      <td>...</td>\n",
       "      <td>...</td>\n",
       "      <td>...</td>\n",
       "      <td>...</td>\n",
       "      <td>...</td>\n",
       "      <td>...</td>\n",
       "    </tr>\n",
       "    <tr>\n",
       "      <th>461123</th>\n",
       "      <td>29499</td>\n",
       "      <td>66</td>\n",
       "      <td>in</td>\n",
       "      <td>29</td>\n",
       "      <td>O</td>\n",
       "      <td>66.0</td>\n",
       "    </tr>\n",
       "    <tr>\n",
       "      <th>461124</th>\n",
       "      <td>29499</td>\n",
       "      <td>66</td>\n",
       "      <td>interpreting</td>\n",
       "      <td>30</td>\n",
       "      <td>O</td>\n",
       "      <td>66.0</td>\n",
       "    </tr>\n",
       "    <tr>\n",
       "      <th>461125</th>\n",
       "      <td>29499</td>\n",
       "      <td>66</td>\n",
       "      <td>this</td>\n",
       "      <td>31</td>\n",
       "      <td>O</td>\n",
       "      <td>66.0</td>\n",
       "    </tr>\n",
       "    <tr>\n",
       "      <th>461126</th>\n",
       "      <td>29499</td>\n",
       "      <td>66</td>\n",
       "      <td>result</td>\n",
       "      <td>32</td>\n",
       "      <td>O</td>\n",
       "      <td>66.0</td>\n",
       "    </tr>\n",
       "    <tr>\n",
       "      <th>461127</th>\n",
       "      <td>29499</td>\n",
       "      <td>66</td>\n",
       "      <td>.</td>\n",
       "      <td>33</td>\n",
       "      <td>O</td>\n",
       "      <td>66.0</td>\n",
       "    </tr>\n",
       "  </tbody>\n",
       "</table>\n",
       "<p>69786688 rows × 6 columns</p>\n",
       "</div>\n",
       "      <button class=\"colab-df-convert\" onclick=\"convertToInteractive('df-3de8fa59-73d6-4492-9105-eb6a174d835b')\"\n",
       "              title=\"Convert this dataframe to an interactive table.\"\n",
       "              style=\"display:none;\">\n",
       "        \n",
       "  <svg xmlns=\"http://www.w3.org/2000/svg\" height=\"24px\"viewBox=\"0 0 24 24\"\n",
       "       width=\"24px\">\n",
       "    <path d=\"M0 0h24v24H0V0z\" fill=\"none\"/>\n",
       "    <path d=\"M18.56 5.44l.94 2.06.94-2.06 2.06-.94-2.06-.94-.94-2.06-.94 2.06-2.06.94zm-11 1L8.5 8.5l.94-2.06 2.06-.94-2.06-.94L8.5 2.5l-.94 2.06-2.06.94zm10 10l.94 2.06.94-2.06 2.06-.94-2.06-.94-.94-2.06-.94 2.06-2.06.94z\"/><path d=\"M17.41 7.96l-1.37-1.37c-.4-.4-.92-.59-1.43-.59-.52 0-1.04.2-1.43.59L10.3 9.45l-7.72 7.72c-.78.78-.78 2.05 0 2.83L4 21.41c.39.39.9.59 1.41.59.51 0 1.02-.2 1.41-.59l7.78-7.78 2.81-2.81c.8-.78.8-2.07 0-2.86zM5.41 20L4 18.59l7.72-7.72 1.47 1.35L5.41 20z\"/>\n",
       "  </svg>\n",
       "      </button>\n",
       "      \n",
       "  <style>\n",
       "    .colab-df-container {\n",
       "      display:flex;\n",
       "      flex-wrap:wrap;\n",
       "      gap: 12px;\n",
       "    }\n",
       "\n",
       "    .colab-df-convert {\n",
       "      background-color: #E8F0FE;\n",
       "      border: none;\n",
       "      border-radius: 50%;\n",
       "      cursor: pointer;\n",
       "      display: none;\n",
       "      fill: #1967D2;\n",
       "      height: 32px;\n",
       "      padding: 0 0 0 0;\n",
       "      width: 32px;\n",
       "    }\n",
       "\n",
       "    .colab-df-convert:hover {\n",
       "      background-color: #E2EBFA;\n",
       "      box-shadow: 0px 1px 2px rgba(60, 64, 67, 0.3), 0px 1px 3px 1px rgba(60, 64, 67, 0.15);\n",
       "      fill: #174EA6;\n",
       "    }\n",
       "\n",
       "    [theme=dark] .colab-df-convert {\n",
       "      background-color: #3B4455;\n",
       "      fill: #D2E3FC;\n",
       "    }\n",
       "\n",
       "    [theme=dark] .colab-df-convert:hover {\n",
       "      background-color: #434B5C;\n",
       "      box-shadow: 0px 1px 3px 1px rgba(0, 0, 0, 0.15);\n",
       "      filter: drop-shadow(0px 1px 2px rgba(0, 0, 0, 0.3));\n",
       "      fill: #FFFFFF;\n",
       "    }\n",
       "  </style>\n",
       "\n",
       "      <script>\n",
       "        const buttonEl =\n",
       "          document.querySelector('#df-3de8fa59-73d6-4492-9105-eb6a174d835b button.colab-df-convert');\n",
       "        buttonEl.style.display =\n",
       "          google.colab.kernel.accessAllowed ? 'block' : 'none';\n",
       "\n",
       "        async function convertToInteractive(key) {\n",
       "          const element = document.querySelector('#df-3de8fa59-73d6-4492-9105-eb6a174d835b');\n",
       "          const dataTable =\n",
       "            await google.colab.kernel.invokeFunction('convertToInteractive',\n",
       "                                                     [key], {});\n",
       "          if (!dataTable) return;\n",
       "\n",
       "          const docLinkHtml = 'Like what you see? Visit the ' +\n",
       "            '<a target=\"_blank\" href=https://colab.research.google.com/notebooks/data_table.ipynb>data table notebook</a>'\n",
       "            + ' to learn more about interactive tables.';\n",
       "          element.innerHTML = '';\n",
       "          dataTable['output_type'] = 'display_data';\n",
       "          await google.colab.output.renderOutput(dataTable, element);\n",
       "          const docLink = document.createElement('div');\n",
       "          docLink.innerHTML = docLinkHtml;\n",
       "          element.appendChild(docLink);\n",
       "        }\n",
       "      </script>\n",
       "    </div>\n",
       "  </div>\n",
       "  "
      ],
      "text/plain": [
       "       doc_id sent_id                    sent_tokens word_id tag  Unnamed: 0\n",
       "0           0       0  angiotensin_converting_enzyme       0   O         0.0\n",
       "1           0       0                              2       1   O         0.0\n",
       "2           0       0                              (       2   O         0.0\n",
       "3           0       0                           ace2       3   O         0.0\n",
       "4           0       0                              )       4   O         0.0\n",
       "...       ...     ...                            ...     ...  ..         ...\n",
       "461123  29499      66                             in      29   O        66.0\n",
       "461124  29499      66                   interpreting      30   O        66.0\n",
       "461125  29499      66                           this      31   O        66.0\n",
       "461126  29499      66                         result      32   O        66.0\n",
       "461127  29499      66                              .      33   O        66.0\n",
       "\n",
       "[69786688 rows x 6 columns]"
      ]
     },
     "execution_count": 8,
     "metadata": {},
     "output_type": "execute_result"
    }
   ],
   "source": [
    "df"
   ]
  },
  {
   "cell_type": "code",
   "execution_count": null,
   "metadata": {
    "colab": {
     "base_uri": "https://localhost:8080/"
    },
    "id": "bXWPb5c110ma",
    "outputId": "9a581412-28e4-4f76-9942-61be65609250"
   },
   "outputs": [
    {
     "name": "stdout",
     "output_type": "stream",
     "text": [
      "Estimate runtime:  2.10879727602005  minutes.\n"
     ]
    }
   ],
   "source": [
    "end_time = time.time()\n",
    "\n",
    "estimate_runtime = round((end_time-start_time)/60)\n",
    "print('Estimate runtime: ', (end_time-start_time)/60, ' minutes.')"
   ]
  },
  {
   "cell_type": "code",
   "execution_count": null,
   "metadata": {
    "id": "ixAuYLzR1yce"
   },
   "outputs": [],
   "source": [
    "file_name = 'corpus_without_tag_all.csv'\n",
    "df.to_csv(file_name)"
   ]
  },
  {
   "cell_type": "code",
   "execution_count": null,
   "metadata": {
    "id": "C9OedOB9mpw0"
   },
   "outputs": [],
   "source": [
    "# file merge total runtime = 2.1 minutes\n",
    "# file save total runtime = 3 min"
   ]
  }
 ],
 "metadata": {
  "accelerator": "GPU",
  "colab": {
   "collapsed_sections": [],
   "name": "Merge All files and Finalize part1 dataset.ipynb",
   "provenance": []
  },
  "kernelspec": {
   "display_name": "Python 3",
   "language": "python",
   "name": "python3"
  },
  "language_info": {
   "codemirror_mode": {
    "name": "ipython",
    "version": 3
   },
   "file_extension": ".py",
   "mimetype": "text/x-python",
   "name": "python",
   "nbconvert_exporter": "python",
   "pygments_lexer": "ipython3",
   "version": "3.8.3"
  }
 },
 "nbformat": 4,
 "nbformat_minor": 1
}
