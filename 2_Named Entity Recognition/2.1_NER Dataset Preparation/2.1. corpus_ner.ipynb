{
 "cells": [
  {
   "cell_type": "markdown",
   "metadata": {},
   "source": [
    "### 2.1. Explode CORD-NER-ner.json file into dataframe (.csv)"
   ]
  },
  {
   "cell_type": "code",
   "execution_count": null,
   "metadata": {
    "id": "EC6lFl3VjClc"
   },
   "outputs": [],
   "source": [
    "import pandas as pd\n",
    "import numpy as np\n",
    "import json\n",
    "import time\n",
    "\n",
    "start_time = time.time()"
   ]
  },
  {
   "cell_type": "code",
   "execution_count": null,
   "metadata": {
    "id": "f1YboujTjClp"
   },
   "outputs": [],
   "source": [
    "# read tokenized file\n",
    "\n",
    "with open('CORD-NER-ner.json', 'r') as myfile:\n",
    "    ner_data = myfile.read()"
   ]
  },
  {
   "cell_type": "code",
   "execution_count": null,
   "metadata": {
    "id": "4vBQ1pDyjCls"
   },
   "outputs": [],
   "source": [
    "ner_list = ner_data.split('\\n')"
   ]
  },
  {
   "cell_type": "code",
   "execution_count": null,
   "metadata": {
    "colab": {
     "base_uri": "https://localhost:8080/"
    },
    "id": "ge8oPXgBZL3l",
    "outputId": "36feb82c-e40d-462a-e2e0-73f033918533"
   },
   "outputs": [
    {
     "name": "stdout",
     "output_type": "stream",
     "text": [
      "Total files:  29501\n"
     ]
    }
   ],
   "source": [
    "print('Total files: ', len(ner_list))"
   ]
  },
  {
   "cell_type": "code",
   "execution_count": null,
   "metadata": {
    "id": "6hto-zEIVpPf"
   },
   "outputs": [],
   "source": [
    "df = pd.DataFrame()"
   ]
  },
  {
   "cell_type": "code",
   "execution_count": null,
   "metadata": {
    "colab": {
     "base_uri": "https://localhost:8080/"
    },
    "id": "CWBLGLBFjClt",
    "outputId": "15bcc28e-d254-4fee-8822-b8d767ef6d32"
   },
   "outputs": [
    {
     "name": "stdout",
     "output_type": "stream",
     "text": [
      "idx:  0  & continuing ... \n",
      "idx:  500  & continuing ... \n",
      "idx:  1000  & continuing ... \n",
      "idx:  1500  & continuing ... \n",
      "idx:  2000  & continuing ... \n",
      "idx:  2500  & continuing ... \n",
      "idx:  3000  & continuing ... \n",
      "idx:  3500  & continuing ... \n",
      "idx:  4000  & continuing ... \n",
      "idx:  4500  & continuing ... \n",
      "idx:  5000  & continuing ... \n",
      "idx:  5500  & continuing ... \n",
      "idx:  6000  & continuing ... \n",
      "idx:  6500  & continuing ... \n",
      "idx:  7000  & continuing ... \n",
      "idx:  7500  & continuing ... \n",
      "idx:  8000  & continuing ... \n",
      "idx:  8500  & continuing ... \n",
      "idx:  9000  & continuing ... \n",
      "idx:  9500  & continuing ... \n"
     ]
    }
   ],
   "source": [
    "for idx in range(10000):\n",
    "    data = json.loads(ner_list[idx])\n",
    "    df_1 = pd.DataFrame(data)\n",
    "\n",
    "    # no sentence in doc_id = 23727\n",
    "    if df_1.empty:\n",
    "        continue\n",
    "\n",
    "    df_2 = pd.json_normalize(df_1['sents'])\n",
    "    df_explode = df_2.explode('entities')\n",
    "    df_explode = df_explode.dropna()\n",
    "    df_3 = pd.json_normalize(df_explode['entities'])\n",
    "    df_3 = df_3.join(df_explode['sent_id'].reset_index())\n",
    "    df_3['doc_id'] = idx\n",
    "\n",
    "    frames = [df, df_3]\n",
    "    df = pd.concat(frames)\n",
    "\n",
    "    if ((idx % 500) == 0):\n",
    "        print('idx: ', idx, ' & continuing ... ')\n",
    "    \n",
    "  #break"
   ]
  },
  {
   "cell_type": "code",
   "execution_count": null,
   "metadata": {
    "colab": {
     "base_uri": "https://localhost:8080/",
     "height": 424
    },
    "id": "0UAbGFH1jCly",
    "outputId": "8784b247-da9f-44f1-b039-60efcbf68fe5"
   },
   "outputs": [
    {
     "data": {
      "text/html": [
       "\n",
       "  <div id=\"df-14a92da1-7bfc-4089-9b17-bfbe2bb9d63f\">\n",
       "    <div class=\"colab-df-container\">\n",
       "      <div>\n",
       "<style scoped>\n",
       "    .dataframe tbody tr th:only-of-type {\n",
       "        vertical-align: middle;\n",
       "    }\n",
       "\n",
       "    .dataframe tbody tr th {\n",
       "        vertical-align: top;\n",
       "    }\n",
       "\n",
       "    .dataframe thead th {\n",
       "        text-align: right;\n",
       "    }\n",
       "</style>\n",
       "<table border=\"1\" class=\"dataframe\">\n",
       "  <thead>\n",
       "    <tr style=\"text-align: right;\">\n",
       "      <th></th>\n",
       "      <th>text</th>\n",
       "      <th>start</th>\n",
       "      <th>end</th>\n",
       "      <th>type</th>\n",
       "      <th>index</th>\n",
       "      <th>sent_id</th>\n",
       "      <th>doc_id</th>\n",
       "    </tr>\n",
       "  </thead>\n",
       "  <tbody>\n",
       "    <tr>\n",
       "      <th>0</th>\n",
       "      <td>angiotensin_converting_enzyme 2</td>\n",
       "      <td>0.0</td>\n",
       "      <td>2.0</td>\n",
       "      <td>GENE_OR_GENOME</td>\n",
       "      <td>0</td>\n",
       "      <td>0</td>\n",
       "      <td>0</td>\n",
       "    </tr>\n",
       "    <tr>\n",
       "      <th>1</th>\n",
       "      <td>ace2</td>\n",
       "      <td>3.0</td>\n",
       "      <td>4.0</td>\n",
       "      <td>GENE_OR_GENOME</td>\n",
       "      <td>0</td>\n",
       "      <td>0</td>\n",
       "      <td>0</td>\n",
       "    </tr>\n",
       "    <tr>\n",
       "      <th>2</th>\n",
       "      <td>sars_cov_2</td>\n",
       "      <td>7.0</td>\n",
       "      <td>8.0</td>\n",
       "      <td>CORONAVIRUS</td>\n",
       "      <td>0</td>\n",
       "      <td>0</td>\n",
       "      <td>0</td>\n",
       "    </tr>\n",
       "    <tr>\n",
       "      <th>3</th>\n",
       "      <td>receptor</td>\n",
       "      <td>8.0</td>\n",
       "      <td>9.0</td>\n",
       "      <td>CHEMICAL</td>\n",
       "      <td>0</td>\n",
       "      <td>0</td>\n",
       "      <td>0</td>\n",
       "    </tr>\n",
       "    <tr>\n",
       "      <th>4</th>\n",
       "      <td>sars_cov_2</td>\n",
       "      <td>13.0</td>\n",
       "      <td>14.0</td>\n",
       "      <td>CORONAVIRUS</td>\n",
       "      <td>0</td>\n",
       "      <td>0</td>\n",
       "      <td>0</td>\n",
       "    </tr>\n",
       "    <tr>\n",
       "      <th>...</th>\n",
       "      <td>...</td>\n",
       "      <td>...</td>\n",
       "      <td>...</td>\n",
       "      <td>...</td>\n",
       "      <td>...</td>\n",
       "      <td>...</td>\n",
       "      <td>...</td>\n",
       "    </tr>\n",
       "    <tr>\n",
       "      <th>518</th>\n",
       "      <td>tanshinone_iia , salvinolone</td>\n",
       "      <td>6.0</td>\n",
       "      <td>9.0</td>\n",
       "      <td>CHEMICAL</td>\n",
       "      <td>185</td>\n",
       "      <td>185</td>\n",
       "      <td>9999</td>\n",
       "    </tr>\n",
       "    <tr>\n",
       "      <th>519</th>\n",
       "      <td>cryptotanshinone</td>\n",
       "      <td>10.0</td>\n",
       "      <td>11.0</td>\n",
       "      <td>CHEMICAL</td>\n",
       "      <td>185</td>\n",
       "      <td>185</td>\n",
       "      <td>9999</td>\n",
       "    </tr>\n",
       "    <tr>\n",
       "      <th>520</th>\n",
       "      <td>ferruginol</td>\n",
       "      <td>13.0</td>\n",
       "      <td>14.0</td>\n",
       "      <td>CHEMICAL</td>\n",
       "      <td>185</td>\n",
       "      <td>185</td>\n",
       "      <td>9999</td>\n",
       "    </tr>\n",
       "    <tr>\n",
       "      <th>521</th>\n",
       "      <td>nmr_spectroscopy</td>\n",
       "      <td>20.0</td>\n",
       "      <td>21.0</td>\n",
       "      <td>GENE_OR_GENOME</td>\n",
       "      <td>185</td>\n",
       "      <td>185</td>\n",
       "      <td>9999</td>\n",
       "    </tr>\n",
       "    <tr>\n",
       "      <th>522</th>\n",
       "      <td>diterpenes</td>\n",
       "      <td>14.0</td>\n",
       "      <td>15.0</td>\n",
       "      <td>CHEMICAL</td>\n",
       "      <td>186</td>\n",
       "      <td>186</td>\n",
       "      <td>9999</td>\n",
       "    </tr>\n",
       "  </tbody>\n",
       "</table>\n",
       "<p>5322696 rows × 7 columns</p>\n",
       "</div>\n",
       "      <button class=\"colab-df-convert\" onclick=\"convertToInteractive('df-14a92da1-7bfc-4089-9b17-bfbe2bb9d63f')\"\n",
       "              title=\"Convert this dataframe to an interactive table.\"\n",
       "              style=\"display:none;\">\n",
       "        \n",
       "  <svg xmlns=\"http://www.w3.org/2000/svg\" height=\"24px\"viewBox=\"0 0 24 24\"\n",
       "       width=\"24px\">\n",
       "    <path d=\"M0 0h24v24H0V0z\" fill=\"none\"/>\n",
       "    <path d=\"M18.56 5.44l.94 2.06.94-2.06 2.06-.94-2.06-.94-.94-2.06-.94 2.06-2.06.94zm-11 1L8.5 8.5l.94-2.06 2.06-.94-2.06-.94L8.5 2.5l-.94 2.06-2.06.94zm10 10l.94 2.06.94-2.06 2.06-.94-2.06-.94-.94-2.06-.94 2.06-2.06.94z\"/><path d=\"M17.41 7.96l-1.37-1.37c-.4-.4-.92-.59-1.43-.59-.52 0-1.04.2-1.43.59L10.3 9.45l-7.72 7.72c-.78.78-.78 2.05 0 2.83L4 21.41c.39.39.9.59 1.41.59.51 0 1.02-.2 1.41-.59l7.78-7.78 2.81-2.81c.8-.78.8-2.07 0-2.86zM5.41 20L4 18.59l7.72-7.72 1.47 1.35L5.41 20z\"/>\n",
       "  </svg>\n",
       "      </button>\n",
       "      \n",
       "  <style>\n",
       "    .colab-df-container {\n",
       "      display:flex;\n",
       "      flex-wrap:wrap;\n",
       "      gap: 12px;\n",
       "    }\n",
       "\n",
       "    .colab-df-convert {\n",
       "      background-color: #E8F0FE;\n",
       "      border: none;\n",
       "      border-radius: 50%;\n",
       "      cursor: pointer;\n",
       "      display: none;\n",
       "      fill: #1967D2;\n",
       "      height: 32px;\n",
       "      padding: 0 0 0 0;\n",
       "      width: 32px;\n",
       "    }\n",
       "\n",
       "    .colab-df-convert:hover {\n",
       "      background-color: #E2EBFA;\n",
       "      box-shadow: 0px 1px 2px rgba(60, 64, 67, 0.3), 0px 1px 3px 1px rgba(60, 64, 67, 0.15);\n",
       "      fill: #174EA6;\n",
       "    }\n",
       "\n",
       "    [theme=dark] .colab-df-convert {\n",
       "      background-color: #3B4455;\n",
       "      fill: #D2E3FC;\n",
       "    }\n",
       "\n",
       "    [theme=dark] .colab-df-convert:hover {\n",
       "      background-color: #434B5C;\n",
       "      box-shadow: 0px 1px 3px 1px rgba(0, 0, 0, 0.15);\n",
       "      filter: drop-shadow(0px 1px 2px rgba(0, 0, 0, 0.3));\n",
       "      fill: #FFFFFF;\n",
       "    }\n",
       "  </style>\n",
       "\n",
       "      <script>\n",
       "        const buttonEl =\n",
       "          document.querySelector('#df-14a92da1-7bfc-4089-9b17-bfbe2bb9d63f button.colab-df-convert');\n",
       "        buttonEl.style.display =\n",
       "          google.colab.kernel.accessAllowed ? 'block' : 'none';\n",
       "\n",
       "        async function convertToInteractive(key) {\n",
       "          const element = document.querySelector('#df-14a92da1-7bfc-4089-9b17-bfbe2bb9d63f');\n",
       "          const dataTable =\n",
       "            await google.colab.kernel.invokeFunction('convertToInteractive',\n",
       "                                                     [key], {});\n",
       "          if (!dataTable) return;\n",
       "\n",
       "          const docLinkHtml = 'Like what you see? Visit the ' +\n",
       "            '<a target=\"_blank\" href=https://colab.research.google.com/notebooks/data_table.ipynb>data table notebook</a>'\n",
       "            + ' to learn more about interactive tables.';\n",
       "          element.innerHTML = '';\n",
       "          dataTable['output_type'] = 'display_data';\n",
       "          await google.colab.output.renderOutput(dataTable, element);\n",
       "          const docLink = document.createElement('div');\n",
       "          docLink.innerHTML = docLinkHtml;\n",
       "          element.appendChild(docLink);\n",
       "        }\n",
       "      </script>\n",
       "    </div>\n",
       "  </div>\n",
       "  "
      ],
      "text/plain": [
       "                                text  start   end            type  index  \\\n",
       "0    angiotensin_converting_enzyme 2    0.0   2.0  GENE_OR_GENOME      0   \n",
       "1                               ace2    3.0   4.0  GENE_OR_GENOME      0   \n",
       "2                         sars_cov_2    7.0   8.0     CORONAVIRUS      0   \n",
       "3                           receptor    8.0   9.0        CHEMICAL      0   \n",
       "4                         sars_cov_2   13.0  14.0     CORONAVIRUS      0   \n",
       "..                               ...    ...   ...             ...    ...   \n",
       "518     tanshinone_iia , salvinolone    6.0   9.0        CHEMICAL    185   \n",
       "519                 cryptotanshinone   10.0  11.0        CHEMICAL    185   \n",
       "520                       ferruginol   13.0  14.0        CHEMICAL    185   \n",
       "521                 nmr_spectroscopy   20.0  21.0  GENE_OR_GENOME    185   \n",
       "522                       diterpenes   14.0  15.0        CHEMICAL    186   \n",
       "\n",
       "     sent_id  doc_id  \n",
       "0          0       0  \n",
       "1          0       0  \n",
       "2          0       0  \n",
       "3          0       0  \n",
       "4          0       0  \n",
       "..       ...     ...  \n",
       "518      185    9999  \n",
       "519      185    9999  \n",
       "520      185    9999  \n",
       "521      185    9999  \n",
       "522      186    9999  \n",
       "\n",
       "[5322696 rows x 7 columns]"
      ]
     },
     "execution_count": 20,
     "metadata": {},
     "output_type": "execute_result"
    }
   ],
   "source": [
    "df"
   ]
  },
  {
   "cell_type": "code",
   "execution_count": null,
   "metadata": {
    "id": "3JU4RaFojCl3"
   },
   "outputs": [],
   "source": [
    "df.to_csv('corpus_with_tag_part2_1_0-10k.csv')"
   ]
  },
  {
   "cell_type": "code",
   "execution_count": null,
   "metadata": {
    "colab": {
     "base_uri": "https://localhost:8080/"
    },
    "id": "56a_FI3XjCl0",
    "outputId": "87d24c09-64d6-44e9-f5bc-a31df23c19fc"
   },
   "outputs": [
    {
     "name": "stdout",
     "output_type": "stream",
     "text": [
      "Estimate runtime:  35.56483484506607  minutes.\n"
     ]
    }
   ],
   "source": [
    "end_time = time.time()\n",
    "\n",
    "print('Estimate runtime: ', (end_time-start_time)/60, ' minutes.')"
   ]
  },
  {
   "cell_type": "code",
   "execution_count": null,
   "metadata": {
    "id": "SifL_pcAo-ck"
   },
   "outputs": [],
   "source": [
    "# Estimate runtime:  35.56483484506607  minutes."
   ]
  }
 ],
 "metadata": {
  "colab": {
   "collapsed_sections": [],
   "name": "Prepare_NER_Dataset (part2-1)_1.ipynb",
   "provenance": []
  },
  "kernelspec": {
   "display_name": "Python 3",
   "language": "python",
   "name": "python3"
  },
  "language_info": {
   "codemirror_mode": {
    "name": "ipython",
    "version": 3
   },
   "file_extension": ".py",
   "mimetype": "text/x-python",
   "name": "python",
   "nbconvert_exporter": "python",
   "pygments_lexer": "ipython3",
   "version": "3.8.3"
  }
 },
 "nbformat": 4,
 "nbformat_minor": 1
}
