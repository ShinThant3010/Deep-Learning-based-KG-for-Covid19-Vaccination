{
  "cells": [
    {
      "cell_type": "code",
      "source": [
        "from google.colab import drive\n",
        "drive.mount('/content/drive')"
      ],
      "metadata": {
        "colab": {
          "base_uri": "https://localhost:8080/"
        },
        "id": "ibV4aOMmlILB",
        "outputId": "b785339e-2355-4b68-a70a-2b9d2e14e69c"
      },
      "execution_count": null,
      "outputs": [
        {
          "output_type": "stream",
          "name": "stdout",
          "text": [
            "Drive already mounted at /content/drive; to attempt to forcibly remount, call drive.mount(\"/content/drive\", force_remount=True).\n"
          ]
        }
      ]
    },
    {
      "cell_type": "code",
      "source": [
        "cd drive/MyDrive/Colab\\ Notebooks/Triple_Analysis"
      ],
      "metadata": {
        "colab": {
          "base_uri": "https://localhost:8080/"
        },
        "id": "KpSRUB3RljpI",
        "outputId": "5785709c-f695-47f9-a40c-79034d3f3a94"
      },
      "execution_count": null,
      "outputs": [
        {
          "output_type": "stream",
          "name": "stdout",
          "text": [
            "/content/drive/MyDrive/Colab Notebooks/Triple_Analysis\n"
          ]
        }
      ]
    },
    {
      "cell_type": "code",
      "source": [
        "ls"
      ],
      "metadata": {
        "colab": {
          "base_uri": "https://localhost:8080/"
        },
        "id": "jflbhY-Rlojp",
        "outputId": "b3d66f86-6984-4669-daf1-a5d4b1c440ec"
      },
      "execution_count": null,
      "outputs": [
        {
          "output_type": "stream",
          "name": "stdout",
          "text": [
            "1_get_original_sentence.ipynb  preprocessed_topic4_corpus.csv\n",
            "2_entity_type_focus.ipynb      preprocessed_topic4_triples.csv\n",
            "3_relation_focus.ipynb         relation_type_analysis.csv\n",
            "entity_type_analysis.csv       triple_with_org_sent.csv\n"
          ]
        }
      ]
    },
    {
      "cell_type": "code",
      "execution_count": null,
      "metadata": {
        "id": "oVHT0ETFi947"
      },
      "outputs": [],
      "source": [
        "import time\n",
        "\n",
        "start_time = time.time()"
      ]
    },
    {
      "cell_type": "code",
      "execution_count": null,
      "metadata": {
        "id": "z0jY9N-Pi94_"
      },
      "outputs": [],
      "source": [
        "import pandas as pd\n",
        "import numpy as np"
      ]
    },
    {
      "cell_type": "markdown",
      "metadata": {
        "id": "dwOuakqWi95A"
      },
      "source": [
        "### Load dataset and tokenize"
      ]
    },
    {
      "cell_type": "code",
      "execution_count": null,
      "metadata": {
        "colab": {
          "base_uri": "https://localhost:8080/",
          "height": 496
        },
        "id": "b6bwdAU8i95B",
        "outputId": "e6379abc-0617-4538-9a99-808f790d4aa0"
      },
      "outputs": [
        {
          "output_type": "execute_result",
          "data": {
            "text/plain": [
              "   Unnamed: 0  doc_id  sent_id                                   triple  \\\n",
              "0           0     0.0      0.0  submacular hemorrhage relate sars-cov-2   \n",
              "1           1     0.0      0.0     submacular hemorrhage relate vaccine   \n",
              "2           2     0.0      0.0            age-related relate sars-cov-2   \n",
              "3           3     0.0      0.0               age-related relate vaccine   \n",
              "4           4     0.0      0.0                macular relate sars-cov-2   \n",
              "\n",
              "   head_idx  verb_idx  tail_idx               head_str             head_lemma  \\\n",
              "0      10.0      11.0      14.0  submacular hemorrhage  submacular hemorrhage   \n",
              "1      10.0      11.0      15.0  submacular hemorrhage  submacular hemorrhage   \n",
              "2       5.0      11.0      14.0            age-related            age-related   \n",
              "3       5.0      11.0      15.0            age-related            age-related   \n",
              "4       6.0      11.0      14.0                macular                macular   \n",
              "\n",
              "             head_type    tail_str  tail_lemma    tail_type main_verb  \\\n",
              "0  DISEASE_OR_SYNDROME  sars-cov-2  sars-cov-2  CORONAVIRUS   related   \n",
              "1  DISEASE_OR_SYNDROME    vaccines     vaccine     CHEMICAL   related   \n",
              "2       GENE_OR_GENOME  sars-cov-2  sars-cov-2  CORONAVIRUS   related   \n",
              "3       GENE_OR_GENOME    vaccines     vaccine     CHEMICAL   related   \n",
              "4               TISSUE  sars-cov-2  sars-cov-2  CORONAVIRUS   related   \n",
              "\n",
              "  lemma_verb cluster_verb  \n",
              "0     relate       relate  \n",
              "1     relate       relate  \n",
              "2     relate       relate  \n",
              "3     relate       relate  \n",
              "4     relate       relate  "
            ],
            "text/html": [
              "\n",
              "  <div id=\"df-e1df49ee-9c58-41ef-a6c9-2239d1be5a8a\">\n",
              "    <div class=\"colab-df-container\">\n",
              "      <div>\n",
              "<style scoped>\n",
              "    .dataframe tbody tr th:only-of-type {\n",
              "        vertical-align: middle;\n",
              "    }\n",
              "\n",
              "    .dataframe tbody tr th {\n",
              "        vertical-align: top;\n",
              "    }\n",
              "\n",
              "    .dataframe thead th {\n",
              "        text-align: right;\n",
              "    }\n",
              "</style>\n",
              "<table border=\"1\" class=\"dataframe\">\n",
              "  <thead>\n",
              "    <tr style=\"text-align: right;\">\n",
              "      <th></th>\n",
              "      <th>Unnamed: 0</th>\n",
              "      <th>doc_id</th>\n",
              "      <th>sent_id</th>\n",
              "      <th>triple</th>\n",
              "      <th>head_idx</th>\n",
              "      <th>verb_idx</th>\n",
              "      <th>tail_idx</th>\n",
              "      <th>head_str</th>\n",
              "      <th>head_lemma</th>\n",
              "      <th>head_type</th>\n",
              "      <th>tail_str</th>\n",
              "      <th>tail_lemma</th>\n",
              "      <th>tail_type</th>\n",
              "      <th>main_verb</th>\n",
              "      <th>lemma_verb</th>\n",
              "      <th>cluster_verb</th>\n",
              "    </tr>\n",
              "  </thead>\n",
              "  <tbody>\n",
              "    <tr>\n",
              "      <th>0</th>\n",
              "      <td>0</td>\n",
              "      <td>0.0</td>\n",
              "      <td>0.0</td>\n",
              "      <td>submacular hemorrhage relate sars-cov-2</td>\n",
              "      <td>10.0</td>\n",
              "      <td>11.0</td>\n",
              "      <td>14.0</td>\n",
              "      <td>submacular hemorrhage</td>\n",
              "      <td>submacular hemorrhage</td>\n",
              "      <td>DISEASE_OR_SYNDROME</td>\n",
              "      <td>sars-cov-2</td>\n",
              "      <td>sars-cov-2</td>\n",
              "      <td>CORONAVIRUS</td>\n",
              "      <td>related</td>\n",
              "      <td>relate</td>\n",
              "      <td>relate</td>\n",
              "    </tr>\n",
              "    <tr>\n",
              "      <th>1</th>\n",
              "      <td>1</td>\n",
              "      <td>0.0</td>\n",
              "      <td>0.0</td>\n",
              "      <td>submacular hemorrhage relate vaccine</td>\n",
              "      <td>10.0</td>\n",
              "      <td>11.0</td>\n",
              "      <td>15.0</td>\n",
              "      <td>submacular hemorrhage</td>\n",
              "      <td>submacular hemorrhage</td>\n",
              "      <td>DISEASE_OR_SYNDROME</td>\n",
              "      <td>vaccines</td>\n",
              "      <td>vaccine</td>\n",
              "      <td>CHEMICAL</td>\n",
              "      <td>related</td>\n",
              "      <td>relate</td>\n",
              "      <td>relate</td>\n",
              "    </tr>\n",
              "    <tr>\n",
              "      <th>2</th>\n",
              "      <td>2</td>\n",
              "      <td>0.0</td>\n",
              "      <td>0.0</td>\n",
              "      <td>age-related relate sars-cov-2</td>\n",
              "      <td>5.0</td>\n",
              "      <td>11.0</td>\n",
              "      <td>14.0</td>\n",
              "      <td>age-related</td>\n",
              "      <td>age-related</td>\n",
              "      <td>GENE_OR_GENOME</td>\n",
              "      <td>sars-cov-2</td>\n",
              "      <td>sars-cov-2</td>\n",
              "      <td>CORONAVIRUS</td>\n",
              "      <td>related</td>\n",
              "      <td>relate</td>\n",
              "      <td>relate</td>\n",
              "    </tr>\n",
              "    <tr>\n",
              "      <th>3</th>\n",
              "      <td>3</td>\n",
              "      <td>0.0</td>\n",
              "      <td>0.0</td>\n",
              "      <td>age-related relate vaccine</td>\n",
              "      <td>5.0</td>\n",
              "      <td>11.0</td>\n",
              "      <td>15.0</td>\n",
              "      <td>age-related</td>\n",
              "      <td>age-related</td>\n",
              "      <td>GENE_OR_GENOME</td>\n",
              "      <td>vaccines</td>\n",
              "      <td>vaccine</td>\n",
              "      <td>CHEMICAL</td>\n",
              "      <td>related</td>\n",
              "      <td>relate</td>\n",
              "      <td>relate</td>\n",
              "    </tr>\n",
              "    <tr>\n",
              "      <th>4</th>\n",
              "      <td>4</td>\n",
              "      <td>0.0</td>\n",
              "      <td>0.0</td>\n",
              "      <td>macular relate sars-cov-2</td>\n",
              "      <td>6.0</td>\n",
              "      <td>11.0</td>\n",
              "      <td>14.0</td>\n",
              "      <td>macular</td>\n",
              "      <td>macular</td>\n",
              "      <td>TISSUE</td>\n",
              "      <td>sars-cov-2</td>\n",
              "      <td>sars-cov-2</td>\n",
              "      <td>CORONAVIRUS</td>\n",
              "      <td>related</td>\n",
              "      <td>relate</td>\n",
              "      <td>relate</td>\n",
              "    </tr>\n",
              "  </tbody>\n",
              "</table>\n",
              "</div>\n",
              "      <button class=\"colab-df-convert\" onclick=\"convertToInteractive('df-e1df49ee-9c58-41ef-a6c9-2239d1be5a8a')\"\n",
              "              title=\"Convert this dataframe to an interactive table.\"\n",
              "              style=\"display:none;\">\n",
              "        \n",
              "  <svg xmlns=\"http://www.w3.org/2000/svg\" height=\"24px\"viewBox=\"0 0 24 24\"\n",
              "       width=\"24px\">\n",
              "    <path d=\"M0 0h24v24H0V0z\" fill=\"none\"/>\n",
              "    <path d=\"M18.56 5.44l.94 2.06.94-2.06 2.06-.94-2.06-.94-.94-2.06-.94 2.06-2.06.94zm-11 1L8.5 8.5l.94-2.06 2.06-.94-2.06-.94L8.5 2.5l-.94 2.06-2.06.94zm10 10l.94 2.06.94-2.06 2.06-.94-2.06-.94-.94-2.06-.94 2.06-2.06.94z\"/><path d=\"M17.41 7.96l-1.37-1.37c-.4-.4-.92-.59-1.43-.59-.52 0-1.04.2-1.43.59L10.3 9.45l-7.72 7.72c-.78.78-.78 2.05 0 2.83L4 21.41c.39.39.9.59 1.41.59.51 0 1.02-.2 1.41-.59l7.78-7.78 2.81-2.81c.8-.78.8-2.07 0-2.86zM5.41 20L4 18.59l7.72-7.72 1.47 1.35L5.41 20z\"/>\n",
              "  </svg>\n",
              "      </button>\n",
              "      \n",
              "  <style>\n",
              "    .colab-df-container {\n",
              "      display:flex;\n",
              "      flex-wrap:wrap;\n",
              "      gap: 12px;\n",
              "    }\n",
              "\n",
              "    .colab-df-convert {\n",
              "      background-color: #E8F0FE;\n",
              "      border: none;\n",
              "      border-radius: 50%;\n",
              "      cursor: pointer;\n",
              "      display: none;\n",
              "      fill: #1967D2;\n",
              "      height: 32px;\n",
              "      padding: 0 0 0 0;\n",
              "      width: 32px;\n",
              "    }\n",
              "\n",
              "    .colab-df-convert:hover {\n",
              "      background-color: #E2EBFA;\n",
              "      box-shadow: 0px 1px 2px rgba(60, 64, 67, 0.3), 0px 1px 3px 1px rgba(60, 64, 67, 0.15);\n",
              "      fill: #174EA6;\n",
              "    }\n",
              "\n",
              "    [theme=dark] .colab-df-convert {\n",
              "      background-color: #3B4455;\n",
              "      fill: #D2E3FC;\n",
              "    }\n",
              "\n",
              "    [theme=dark] .colab-df-convert:hover {\n",
              "      background-color: #434B5C;\n",
              "      box-shadow: 0px 1px 3px 1px rgba(0, 0, 0, 0.15);\n",
              "      filter: drop-shadow(0px 1px 2px rgba(0, 0, 0, 0.3));\n",
              "      fill: #FFFFFF;\n",
              "    }\n",
              "  </style>\n",
              "\n",
              "      <script>\n",
              "        const buttonEl =\n",
              "          document.querySelector('#df-e1df49ee-9c58-41ef-a6c9-2239d1be5a8a button.colab-df-convert');\n",
              "        buttonEl.style.display =\n",
              "          google.colab.kernel.accessAllowed ? 'block' : 'none';\n",
              "\n",
              "        async function convertToInteractive(key) {\n",
              "          const element = document.querySelector('#df-e1df49ee-9c58-41ef-a6c9-2239d1be5a8a');\n",
              "          const dataTable =\n",
              "            await google.colab.kernel.invokeFunction('convertToInteractive',\n",
              "                                                     [key], {});\n",
              "          if (!dataTable) return;\n",
              "\n",
              "          const docLinkHtml = 'Like what you see? Visit the ' +\n",
              "            '<a target=\"_blank\" href=https://colab.research.google.com/notebooks/data_table.ipynb>data table notebook</a>'\n",
              "            + ' to learn more about interactive tables.';\n",
              "          element.innerHTML = '';\n",
              "          dataTable['output_type'] = 'display_data';\n",
              "          await google.colab.output.renderOutput(dataTable, element);\n",
              "          const docLink = document.createElement('div');\n",
              "          docLink.innerHTML = docLinkHtml;\n",
              "          element.appendChild(docLink);\n",
              "        }\n",
              "      </script>\n",
              "    </div>\n",
              "  </div>\n",
              "  "
            ]
          },
          "metadata": {},
          "execution_count": 6
        }
      ],
      "source": [
        "triple_df = pd.read_csv('preprocessed_topic4_triples.csv')\n",
        "triple_df.head()"
      ]
    },
    {
      "cell_type": "code",
      "source": [
        "for idx in triple_df.index:\n",
        "  triple_df.loc[idx, 'head_tail_type'] = triple_df.loc[idx, 'head_type'] + ' --- ' + triple_df.loc[idx, 'tail_type']"
      ],
      "metadata": {
        "id": "SvIZmoQI3liD"
      },
      "execution_count": null,
      "outputs": []
    },
    {
      "cell_type": "code",
      "source": [
        "relation_group = triple_df.groupby(['cluster_verb'])"
      ],
      "metadata": {
        "id": "hR7Eldqc2Aqj"
      },
      "execution_count": null,
      "outputs": []
    },
    {
      "cell_type": "code",
      "source": [
        "entity_type_df = relation_group['head_tail_type'].apply(list).reset_index(name='head_tail_list')"
      ],
      "metadata": {
        "id": "4vChkOBE2Hh8"
      },
      "execution_count": null,
      "outputs": []
    },
    {
      "cell_type": "code",
      "source": [
        "entity_type_df['unique_head_tail_list'] = entity_type_df['head_tail_list'].apply(lambda x: list(set(x)))"
      ],
      "metadata": {
        "id": "cSudUotK4qcj"
      },
      "execution_count": null,
      "outputs": []
    },
    {
      "cell_type": "code",
      "source": [
        "entity_type_df['triple_count'] = entity_type_df['head_tail_list'].apply(lambda x: len(x))"
      ],
      "metadata": {
        "id": "47sHeeaU5Vlr"
      },
      "execution_count": null,
      "outputs": []
    },
    {
      "cell_type": "code",
      "source": [
        "entity_type_df.head()"
      ],
      "metadata": {
        "colab": {
          "base_uri": "https://localhost:8080/",
          "height": 206
        },
        "id": "jjqG_kxn2hSF",
        "outputId": "d2e44959-4da3-47c8-ea41-46191d5a6d33"
      },
      "execution_count": null,
      "outputs": [
        {
          "output_type": "execute_result",
          "data": {
            "text/plain": [
              "  cluster_verb                                     head_tail_list  \\\n",
              "0     abrogate  [CHEMICAL --- CARDINAL, CHEMICAL --- CARDINAL,...   \n",
              "1         ache  [CHEMICAL --- DISEASE_OR_SYNDROME, DISEASE_OR_...   \n",
              "2  acknowledge  [CELL --- CHEMICAL, CELL --- CHEMICAL, CELL --...   \n",
              "3      acquire  [GROUP --- DISEASE_OR_SYNDROME, GROUP --- CHEM...   \n",
              "4     activate  [DISEASE_OR_SYNDROME --- GENE_OR_GENOME, DISEA...   \n",
              "\n",
              "                               unique_head_tail_list  triple_count  \n",
              "0          [CHEMICAL --- LOC, CHEMICAL --- CARDINAL]             3  \n",
              "1  [SIGN_OR_SYMPTOM --- DISEASE_OR_SYNDROME, CHEM...             5  \n",
              "2  [CELL --- SUBSTRATE, CELL --- CELL, CELL --- C...            15  \n",
              "3  [CELL --- GROUP, GROUP --- GROUP, GROUP --- DI...            66  \n",
              "4  [GROUP --- GROUP, CHEMICAL --- GENE_OR_GENOME,...            26  "
            ],
            "text/html": [
              "\n",
              "  <div id=\"df-3095919a-52ba-4cdf-b587-d1cc933c3716\">\n",
              "    <div class=\"colab-df-container\">\n",
              "      <div>\n",
              "<style scoped>\n",
              "    .dataframe tbody tr th:only-of-type {\n",
              "        vertical-align: middle;\n",
              "    }\n",
              "\n",
              "    .dataframe tbody tr th {\n",
              "        vertical-align: top;\n",
              "    }\n",
              "\n",
              "    .dataframe thead th {\n",
              "        text-align: right;\n",
              "    }\n",
              "</style>\n",
              "<table border=\"1\" class=\"dataframe\">\n",
              "  <thead>\n",
              "    <tr style=\"text-align: right;\">\n",
              "      <th></th>\n",
              "      <th>cluster_verb</th>\n",
              "      <th>head_tail_list</th>\n",
              "      <th>unique_head_tail_list</th>\n",
              "      <th>triple_count</th>\n",
              "    </tr>\n",
              "  </thead>\n",
              "  <tbody>\n",
              "    <tr>\n",
              "      <th>0</th>\n",
              "      <td>abrogate</td>\n",
              "      <td>[CHEMICAL --- CARDINAL, CHEMICAL --- CARDINAL,...</td>\n",
              "      <td>[CHEMICAL --- LOC, CHEMICAL --- CARDINAL]</td>\n",
              "      <td>3</td>\n",
              "    </tr>\n",
              "    <tr>\n",
              "      <th>1</th>\n",
              "      <td>ache</td>\n",
              "      <td>[CHEMICAL --- DISEASE_OR_SYNDROME, DISEASE_OR_...</td>\n",
              "      <td>[SIGN_OR_SYMPTOM --- DISEASE_OR_SYNDROME, CHEM...</td>\n",
              "      <td>5</td>\n",
              "    </tr>\n",
              "    <tr>\n",
              "      <th>2</th>\n",
              "      <td>acknowledge</td>\n",
              "      <td>[CELL --- CHEMICAL, CELL --- CHEMICAL, CELL --...</td>\n",
              "      <td>[CELL --- SUBSTRATE, CELL --- CELL, CELL --- C...</td>\n",
              "      <td>15</td>\n",
              "    </tr>\n",
              "    <tr>\n",
              "      <th>3</th>\n",
              "      <td>acquire</td>\n",
              "      <td>[GROUP --- DISEASE_OR_SYNDROME, GROUP --- CHEM...</td>\n",
              "      <td>[CELL --- GROUP, GROUP --- GROUP, GROUP --- DI...</td>\n",
              "      <td>66</td>\n",
              "    </tr>\n",
              "    <tr>\n",
              "      <th>4</th>\n",
              "      <td>activate</td>\n",
              "      <td>[DISEASE_OR_SYNDROME --- GENE_OR_GENOME, DISEA...</td>\n",
              "      <td>[GROUP --- GROUP, CHEMICAL --- GENE_OR_GENOME,...</td>\n",
              "      <td>26</td>\n",
              "    </tr>\n",
              "  </tbody>\n",
              "</table>\n",
              "</div>\n",
              "      <button class=\"colab-df-convert\" onclick=\"convertToInteractive('df-3095919a-52ba-4cdf-b587-d1cc933c3716')\"\n",
              "              title=\"Convert this dataframe to an interactive table.\"\n",
              "              style=\"display:none;\">\n",
              "        \n",
              "  <svg xmlns=\"http://www.w3.org/2000/svg\" height=\"24px\"viewBox=\"0 0 24 24\"\n",
              "       width=\"24px\">\n",
              "    <path d=\"M0 0h24v24H0V0z\" fill=\"none\"/>\n",
              "    <path d=\"M18.56 5.44l.94 2.06.94-2.06 2.06-.94-2.06-.94-.94-2.06-.94 2.06-2.06.94zm-11 1L8.5 8.5l.94-2.06 2.06-.94-2.06-.94L8.5 2.5l-.94 2.06-2.06.94zm10 10l.94 2.06.94-2.06 2.06-.94-2.06-.94-.94-2.06-.94 2.06-2.06.94z\"/><path d=\"M17.41 7.96l-1.37-1.37c-.4-.4-.92-.59-1.43-.59-.52 0-1.04.2-1.43.59L10.3 9.45l-7.72 7.72c-.78.78-.78 2.05 0 2.83L4 21.41c.39.39.9.59 1.41.59.51 0 1.02-.2 1.41-.59l7.78-7.78 2.81-2.81c.8-.78.8-2.07 0-2.86zM5.41 20L4 18.59l7.72-7.72 1.47 1.35L5.41 20z\"/>\n",
              "  </svg>\n",
              "      </button>\n",
              "      \n",
              "  <style>\n",
              "    .colab-df-container {\n",
              "      display:flex;\n",
              "      flex-wrap:wrap;\n",
              "      gap: 12px;\n",
              "    }\n",
              "\n",
              "    .colab-df-convert {\n",
              "      background-color: #E8F0FE;\n",
              "      border: none;\n",
              "      border-radius: 50%;\n",
              "      cursor: pointer;\n",
              "      display: none;\n",
              "      fill: #1967D2;\n",
              "      height: 32px;\n",
              "      padding: 0 0 0 0;\n",
              "      width: 32px;\n",
              "    }\n",
              "\n",
              "    .colab-df-convert:hover {\n",
              "      background-color: #E2EBFA;\n",
              "      box-shadow: 0px 1px 2px rgba(60, 64, 67, 0.3), 0px 1px 3px 1px rgba(60, 64, 67, 0.15);\n",
              "      fill: #174EA6;\n",
              "    }\n",
              "\n",
              "    [theme=dark] .colab-df-convert {\n",
              "      background-color: #3B4455;\n",
              "      fill: #D2E3FC;\n",
              "    }\n",
              "\n",
              "    [theme=dark] .colab-df-convert:hover {\n",
              "      background-color: #434B5C;\n",
              "      box-shadow: 0px 1px 3px 1px rgba(0, 0, 0, 0.15);\n",
              "      filter: drop-shadow(0px 1px 2px rgba(0, 0, 0, 0.3));\n",
              "      fill: #FFFFFF;\n",
              "    }\n",
              "  </style>\n",
              "\n",
              "      <script>\n",
              "        const buttonEl =\n",
              "          document.querySelector('#df-3095919a-52ba-4cdf-b587-d1cc933c3716 button.colab-df-convert');\n",
              "        buttonEl.style.display =\n",
              "          google.colab.kernel.accessAllowed ? 'block' : 'none';\n",
              "\n",
              "        async function convertToInteractive(key) {\n",
              "          const element = document.querySelector('#df-3095919a-52ba-4cdf-b587-d1cc933c3716');\n",
              "          const dataTable =\n",
              "            await google.colab.kernel.invokeFunction('convertToInteractive',\n",
              "                                                     [key], {});\n",
              "          if (!dataTable) return;\n",
              "\n",
              "          const docLinkHtml = 'Like what you see? Visit the ' +\n",
              "            '<a target=\"_blank\" href=https://colab.research.google.com/notebooks/data_table.ipynb>data table notebook</a>'\n",
              "            + ' to learn more about interactive tables.';\n",
              "          element.innerHTML = '';\n",
              "          dataTable['output_type'] = 'display_data';\n",
              "          await google.colab.output.renderOutput(dataTable, element);\n",
              "          const docLink = document.createElement('div');\n",
              "          docLink.innerHTML = docLinkHtml;\n",
              "          element.appendChild(docLink);\n",
              "        }\n",
              "      </script>\n",
              "    </div>\n",
              "  </div>\n",
              "  "
            ]
          },
          "metadata": {},
          "execution_count": 12
        }
      ]
    },
    {
      "cell_type": "code",
      "source": [
        "entity_type_df.to_csv('relation_type_analysis.csv')"
      ],
      "metadata": {
        "id": "pd6TpAxo5bwW"
      },
      "execution_count": null,
      "outputs": []
    },
    {
      "cell_type": "code",
      "execution_count": null,
      "metadata": {
        "id": "XYPBd0oci95M",
        "colab": {
          "base_uri": "https://localhost:8080/"
        },
        "outputId": "c6abb974-0865-4385-82a0-ca6dd6622c39"
      },
      "outputs": [
        {
          "output_type": "stream",
          "name": "stdout",
          "text": [
            "Estimate runtime:  0.47499645948410035  minutes.\n"
          ]
        }
      ],
      "source": [
        "end_time = time.time()\n",
        "\n",
        "print('Estimate runtime: ', (end_time-start_time)/60, ' minutes.')"
      ]
    },
    {
      "cell_type": "code",
      "source": [
        "### for 5000 sentences\n",
        "\n",
        "# Estimate runtime:  0.19963531891504924  minutes."
      ],
      "metadata": {
        "id": "VJBuaQ666hKY"
      },
      "execution_count": null,
      "outputs": []
    }
  ],
  "metadata": {
    "kernelspec": {
      "display_name": "Python 3",
      "language": "python",
      "name": "python3"
    },
    "language_info": {
      "codemirror_mode": {
        "name": "ipython",
        "version": 3
      },
      "file_extension": ".py",
      "mimetype": "text/x-python",
      "name": "python",
      "nbconvert_exporter": "python",
      "pygments_lexer": "ipython3",
      "version": "3.8.3"
    },
    "colab": {
      "name": "3_relation_focus.ipynb",
      "provenance": [],
      "collapsed_sections": []
    }
  },
  "nbformat": 4,
  "nbformat_minor": 0
}