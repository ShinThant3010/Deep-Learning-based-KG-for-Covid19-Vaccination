{
  "cells": [
    {
      "cell_type": "code",
      "source": [
        "from google.colab import drive\n",
        "drive.mount('/content/drive')"
      ],
      "metadata": {
        "colab": {
          "base_uri": "https://localhost:8080/"
        },
        "id": "ibV4aOMmlILB",
        "outputId": "ae108d64-160b-46e6-b0e7-d17e88762cfe"
      },
      "execution_count": null,
      "outputs": [
        {
          "output_type": "stream",
          "name": "stdout",
          "text": [
            "Mounted at /content/drive\n"
          ]
        }
      ]
    },
    {
      "cell_type": "code",
      "source": [
        "cd drive/MyDrive/Colab\\ Notebooks/Triple_Analysis"
      ],
      "metadata": {
        "colab": {
          "base_uri": "https://localhost:8080/"
        },
        "id": "KpSRUB3RljpI",
        "outputId": "d0c7663a-a4ea-4784-af0a-36ea2700df00"
      },
      "execution_count": null,
      "outputs": [
        {
          "output_type": "stream",
          "name": "stdout",
          "text": [
            "/content/drive/MyDrive/Colab Notebooks/Triple_Analysis\n"
          ]
        }
      ]
    },
    {
      "cell_type": "code",
      "source": [
        "ls"
      ],
      "metadata": {
        "colab": {
          "base_uri": "https://localhost:8080/"
        },
        "id": "jflbhY-Rlojp",
        "outputId": "ee7b0678-fbee-411e-b1c8-01cc1d04f46a"
      },
      "execution_count": null,
      "outputs": [
        {
          "output_type": "stream",
          "name": "stdout",
          "text": [
            "1_get_original_sentence.ipynb  preprocessed_topic4_corpus.csv\n",
            "2_entity_type_focus.ipynb      preprocessed_topic4_triples.csv\n",
            "3_relation_focus.ipynb         relation_type_analysis.csv\n",
            "entity_type_analysis.csv       triple_with_org_sent.csv\n"
          ]
        }
      ]
    },
    {
      "cell_type": "code",
      "execution_count": null,
      "metadata": {
        "id": "oVHT0ETFi947"
      },
      "outputs": [],
      "source": [
        "import time\n",
        "\n",
        "start_time = time.time()"
      ]
    },
    {
      "cell_type": "code",
      "execution_count": null,
      "metadata": {
        "id": "z0jY9N-Pi94_"
      },
      "outputs": [],
      "source": [
        "import pandas as pd\n",
        "import numpy as np"
      ]
    },
    {
      "cell_type": "markdown",
      "metadata": {
        "id": "dwOuakqWi95A"
      },
      "source": [
        "### Load dataset and tokenize"
      ]
    },
    {
      "cell_type": "code",
      "execution_count": null,
      "metadata": {
        "colab": {
          "base_uri": "https://localhost:8080/",
          "height": 496
        },
        "id": "b6bwdAU8i95B",
        "outputId": "1d787a60-f12d-4f83-fdb1-1e02dd91d22a"
      },
      "outputs": [
        {
          "output_type": "execute_result",
          "data": {
            "text/plain": [
              "   Unnamed: 0  doc_id  sent_id                                   triple  \\\n",
              "0           0     0.0      0.0  submacular hemorrhage relate sars-cov-2   \n",
              "1           1     0.0      0.0     submacular hemorrhage relate vaccine   \n",
              "2           2     0.0      0.0            age-related relate sars-cov-2   \n",
              "3           3     0.0      0.0               age-related relate vaccine   \n",
              "4           4     0.0      0.0                macular relate sars-cov-2   \n",
              "\n",
              "   head_idx  verb_idx  tail_idx               head_str             head_lemma  \\\n",
              "0      10.0      11.0      14.0  submacular hemorrhage  submacular hemorrhage   \n",
              "1      10.0      11.0      15.0  submacular hemorrhage  submacular hemorrhage   \n",
              "2       5.0      11.0      14.0            age-related            age-related   \n",
              "3       5.0      11.0      15.0            age-related            age-related   \n",
              "4       6.0      11.0      14.0                macular                macular   \n",
              "\n",
              "             head_type    tail_str  tail_lemma    tail_type main_verb  \\\n",
              "0  DISEASE_OR_SYNDROME  sars-cov-2  sars-cov-2  CORONAVIRUS   related   \n",
              "1  DISEASE_OR_SYNDROME    vaccines     vaccine     CHEMICAL   related   \n",
              "2       GENE_OR_GENOME  sars-cov-2  sars-cov-2  CORONAVIRUS   related   \n",
              "3       GENE_OR_GENOME    vaccines     vaccine     CHEMICAL   related   \n",
              "4               TISSUE  sars-cov-2  sars-cov-2  CORONAVIRUS   related   \n",
              "\n",
              "  lemma_verb cluster_verb  \n",
              "0     relate       relate  \n",
              "1     relate       relate  \n",
              "2     relate       relate  \n",
              "3     relate       relate  \n",
              "4     relate       relate  "
            ],
            "text/html": [
              "\n",
              "  <div id=\"df-b336d0a3-a8ef-490e-9a7b-958057a46c9e\">\n",
              "    <div class=\"colab-df-container\">\n",
              "      <div>\n",
              "<style scoped>\n",
              "    .dataframe tbody tr th:only-of-type {\n",
              "        vertical-align: middle;\n",
              "    }\n",
              "\n",
              "    .dataframe tbody tr th {\n",
              "        vertical-align: top;\n",
              "    }\n",
              "\n",
              "    .dataframe thead th {\n",
              "        text-align: right;\n",
              "    }\n",
              "</style>\n",
              "<table border=\"1\" class=\"dataframe\">\n",
              "  <thead>\n",
              "    <tr style=\"text-align: right;\">\n",
              "      <th></th>\n",
              "      <th>Unnamed: 0</th>\n",
              "      <th>doc_id</th>\n",
              "      <th>sent_id</th>\n",
              "      <th>triple</th>\n",
              "      <th>head_idx</th>\n",
              "      <th>verb_idx</th>\n",
              "      <th>tail_idx</th>\n",
              "      <th>head_str</th>\n",
              "      <th>head_lemma</th>\n",
              "      <th>head_type</th>\n",
              "      <th>tail_str</th>\n",
              "      <th>tail_lemma</th>\n",
              "      <th>tail_type</th>\n",
              "      <th>main_verb</th>\n",
              "      <th>lemma_verb</th>\n",
              "      <th>cluster_verb</th>\n",
              "    </tr>\n",
              "  </thead>\n",
              "  <tbody>\n",
              "    <tr>\n",
              "      <th>0</th>\n",
              "      <td>0</td>\n",
              "      <td>0.0</td>\n",
              "      <td>0.0</td>\n",
              "      <td>submacular hemorrhage relate sars-cov-2</td>\n",
              "      <td>10.0</td>\n",
              "      <td>11.0</td>\n",
              "      <td>14.0</td>\n",
              "      <td>submacular hemorrhage</td>\n",
              "      <td>submacular hemorrhage</td>\n",
              "      <td>DISEASE_OR_SYNDROME</td>\n",
              "      <td>sars-cov-2</td>\n",
              "      <td>sars-cov-2</td>\n",
              "      <td>CORONAVIRUS</td>\n",
              "      <td>related</td>\n",
              "      <td>relate</td>\n",
              "      <td>relate</td>\n",
              "    </tr>\n",
              "    <tr>\n",
              "      <th>1</th>\n",
              "      <td>1</td>\n",
              "      <td>0.0</td>\n",
              "      <td>0.0</td>\n",
              "      <td>submacular hemorrhage relate vaccine</td>\n",
              "      <td>10.0</td>\n",
              "      <td>11.0</td>\n",
              "      <td>15.0</td>\n",
              "      <td>submacular hemorrhage</td>\n",
              "      <td>submacular hemorrhage</td>\n",
              "      <td>DISEASE_OR_SYNDROME</td>\n",
              "      <td>vaccines</td>\n",
              "      <td>vaccine</td>\n",
              "      <td>CHEMICAL</td>\n",
              "      <td>related</td>\n",
              "      <td>relate</td>\n",
              "      <td>relate</td>\n",
              "    </tr>\n",
              "    <tr>\n",
              "      <th>2</th>\n",
              "      <td>2</td>\n",
              "      <td>0.0</td>\n",
              "      <td>0.0</td>\n",
              "      <td>age-related relate sars-cov-2</td>\n",
              "      <td>5.0</td>\n",
              "      <td>11.0</td>\n",
              "      <td>14.0</td>\n",
              "      <td>age-related</td>\n",
              "      <td>age-related</td>\n",
              "      <td>GENE_OR_GENOME</td>\n",
              "      <td>sars-cov-2</td>\n",
              "      <td>sars-cov-2</td>\n",
              "      <td>CORONAVIRUS</td>\n",
              "      <td>related</td>\n",
              "      <td>relate</td>\n",
              "      <td>relate</td>\n",
              "    </tr>\n",
              "    <tr>\n",
              "      <th>3</th>\n",
              "      <td>3</td>\n",
              "      <td>0.0</td>\n",
              "      <td>0.0</td>\n",
              "      <td>age-related relate vaccine</td>\n",
              "      <td>5.0</td>\n",
              "      <td>11.0</td>\n",
              "      <td>15.0</td>\n",
              "      <td>age-related</td>\n",
              "      <td>age-related</td>\n",
              "      <td>GENE_OR_GENOME</td>\n",
              "      <td>vaccines</td>\n",
              "      <td>vaccine</td>\n",
              "      <td>CHEMICAL</td>\n",
              "      <td>related</td>\n",
              "      <td>relate</td>\n",
              "      <td>relate</td>\n",
              "    </tr>\n",
              "    <tr>\n",
              "      <th>4</th>\n",
              "      <td>4</td>\n",
              "      <td>0.0</td>\n",
              "      <td>0.0</td>\n",
              "      <td>macular relate sars-cov-2</td>\n",
              "      <td>6.0</td>\n",
              "      <td>11.0</td>\n",
              "      <td>14.0</td>\n",
              "      <td>macular</td>\n",
              "      <td>macular</td>\n",
              "      <td>TISSUE</td>\n",
              "      <td>sars-cov-2</td>\n",
              "      <td>sars-cov-2</td>\n",
              "      <td>CORONAVIRUS</td>\n",
              "      <td>related</td>\n",
              "      <td>relate</td>\n",
              "      <td>relate</td>\n",
              "    </tr>\n",
              "  </tbody>\n",
              "</table>\n",
              "</div>\n",
              "      <button class=\"colab-df-convert\" onclick=\"convertToInteractive('df-b336d0a3-a8ef-490e-9a7b-958057a46c9e')\"\n",
              "              title=\"Convert this dataframe to an interactive table.\"\n",
              "              style=\"display:none;\">\n",
              "        \n",
              "  <svg xmlns=\"http://www.w3.org/2000/svg\" height=\"24px\"viewBox=\"0 0 24 24\"\n",
              "       width=\"24px\">\n",
              "    <path d=\"M0 0h24v24H0V0z\" fill=\"none\"/>\n",
              "    <path d=\"M18.56 5.44l.94 2.06.94-2.06 2.06-.94-2.06-.94-.94-2.06-.94 2.06-2.06.94zm-11 1L8.5 8.5l.94-2.06 2.06-.94-2.06-.94L8.5 2.5l-.94 2.06-2.06.94zm10 10l.94 2.06.94-2.06 2.06-.94-2.06-.94-.94-2.06-.94 2.06-2.06.94z\"/><path d=\"M17.41 7.96l-1.37-1.37c-.4-.4-.92-.59-1.43-.59-.52 0-1.04.2-1.43.59L10.3 9.45l-7.72 7.72c-.78.78-.78 2.05 0 2.83L4 21.41c.39.39.9.59 1.41.59.51 0 1.02-.2 1.41-.59l7.78-7.78 2.81-2.81c.8-.78.8-2.07 0-2.86zM5.41 20L4 18.59l7.72-7.72 1.47 1.35L5.41 20z\"/>\n",
              "  </svg>\n",
              "      </button>\n",
              "      \n",
              "  <style>\n",
              "    .colab-df-container {\n",
              "      display:flex;\n",
              "      flex-wrap:wrap;\n",
              "      gap: 12px;\n",
              "    }\n",
              "\n",
              "    .colab-df-convert {\n",
              "      background-color: #E8F0FE;\n",
              "      border: none;\n",
              "      border-radius: 50%;\n",
              "      cursor: pointer;\n",
              "      display: none;\n",
              "      fill: #1967D2;\n",
              "      height: 32px;\n",
              "      padding: 0 0 0 0;\n",
              "      width: 32px;\n",
              "    }\n",
              "\n",
              "    .colab-df-convert:hover {\n",
              "      background-color: #E2EBFA;\n",
              "      box-shadow: 0px 1px 2px rgba(60, 64, 67, 0.3), 0px 1px 3px 1px rgba(60, 64, 67, 0.15);\n",
              "      fill: #174EA6;\n",
              "    }\n",
              "\n",
              "    [theme=dark] .colab-df-convert {\n",
              "      background-color: #3B4455;\n",
              "      fill: #D2E3FC;\n",
              "    }\n",
              "\n",
              "    [theme=dark] .colab-df-convert:hover {\n",
              "      background-color: #434B5C;\n",
              "      box-shadow: 0px 1px 3px 1px rgba(0, 0, 0, 0.15);\n",
              "      filter: drop-shadow(0px 1px 2px rgba(0, 0, 0, 0.3));\n",
              "      fill: #FFFFFF;\n",
              "    }\n",
              "  </style>\n",
              "\n",
              "      <script>\n",
              "        const buttonEl =\n",
              "          document.querySelector('#df-b336d0a3-a8ef-490e-9a7b-958057a46c9e button.colab-df-convert');\n",
              "        buttonEl.style.display =\n",
              "          google.colab.kernel.accessAllowed ? 'block' : 'none';\n",
              "\n",
              "        async function convertToInteractive(key) {\n",
              "          const element = document.querySelector('#df-b336d0a3-a8ef-490e-9a7b-958057a46c9e');\n",
              "          const dataTable =\n",
              "            await google.colab.kernel.invokeFunction('convertToInteractive',\n",
              "                                                     [key], {});\n",
              "          if (!dataTable) return;\n",
              "\n",
              "          const docLinkHtml = 'Like what you see? Visit the ' +\n",
              "            '<a target=\"_blank\" href=https://colab.research.google.com/notebooks/data_table.ipynb>data table notebook</a>'\n",
              "            + ' to learn more about interactive tables.';\n",
              "          element.innerHTML = '';\n",
              "          dataTable['output_type'] = 'display_data';\n",
              "          await google.colab.output.renderOutput(dataTable, element);\n",
              "          const docLink = document.createElement('div');\n",
              "          docLink.innerHTML = docLinkHtml;\n",
              "          element.appendChild(docLink);\n",
              "        }\n",
              "      </script>\n",
              "    </div>\n",
              "  </div>\n",
              "  "
            ]
          },
          "metadata": {},
          "execution_count": 6
        }
      ],
      "source": [
        "triple_df = pd.read_csv('preprocessed_topic4_triples.csv')\n",
        "triple_df.head()"
      ]
    },
    {
      "cell_type": "code",
      "source": [
        "triple_group = triple_df.groupby(['head_type', 'tail_type'])"
      ],
      "metadata": {
        "id": "WvIPeGrWzRmK"
      },
      "execution_count": null,
      "outputs": []
    },
    {
      "cell_type": "code",
      "source": [
        "triple_df = triple_group['triple'].apply(list).reset_index(name='triple_list')"
      ],
      "metadata": {
        "id": "7yxao_ITujDZ"
      },
      "execution_count": null,
      "outputs": []
    },
    {
      "cell_type": "code",
      "source": [
        "cluster_df = triple_group['cluster_verb'].apply(list).reset_index(name='cluster_list')"
      ],
      "metadata": {
        "id": "CspDYOVw02yK"
      },
      "execution_count": null,
      "outputs": []
    },
    {
      "cell_type": "code",
      "source": [
        "entity_df = pd.merge(triple_df, cluster_df, on = ['head_type', 'tail_type'])"
      ],
      "metadata": {
        "id": "DKrLWHi-1PXj"
      },
      "execution_count": null,
      "outputs": []
    },
    {
      "cell_type": "code",
      "source": [
        "entity_df['list_count'] = entity_df['triple_list'].apply(lambda x: len(x))"
      ],
      "metadata": {
        "id": "ITOnwU-JzmJr"
      },
      "execution_count": null,
      "outputs": []
    },
    {
      "cell_type": "code",
      "source": [
        "entity_df.head()"
      ],
      "metadata": {
        "colab": {
          "base_uri": "https://localhost:8080/",
          "height": 206
        },
        "id": "nRoSp8lu0vRh",
        "outputId": "e7ae9c9e-6b12-4e8b-d048-cc12ee9358f8"
      },
      "execution_count": null,
      "outputs": [
        {
          "output_type": "execute_result",
          "data": {
            "text/plain": [
              "   head_type            tail_type  \\\n",
              "0  BACTERIUM             CARDINAL   \n",
              "1  BACTERIUM             CHEMICAL   \n",
              "2  BACTERIUM  DISEASE_OR_SYNDROME   \n",
              "3  BACTERIUM       GENE_OR_GENOME   \n",
              "4  BACTERIUM             ORGANISM   \n",
              "\n",
              "                                         triple_list  \\\n",
              "0  [meningococci follow 12, meningococci follow 1...   \n",
              "1  [meningococci follow vaccine, meningococci fol...   \n",
              "2  [neisseria consider meningococcal disease, men...   \n",
              "3  [nocebo provide aes, nocebo appear aes, brucel...   \n",
              "4                    [streptococcus treat serotypes]   \n",
              "\n",
              "                                        cluster_list  list_count  \n",
              "0                   [follow, follow, detect, detect]           4  \n",
              "1  [follow, follow, induce, induce, recommend, co...          10  \n",
              "2  [consider, consider, vaccinate, associate, inc...           5  \n",
              "3         [provide, appear, observe, detect, detect]           5  \n",
              "4                                            [treat]           1  "
            ],
            "text/html": [
              "\n",
              "  <div id=\"df-dcff0136-885e-441b-9fc6-b7d3c0873f06\">\n",
              "    <div class=\"colab-df-container\">\n",
              "      <div>\n",
              "<style scoped>\n",
              "    .dataframe tbody tr th:only-of-type {\n",
              "        vertical-align: middle;\n",
              "    }\n",
              "\n",
              "    .dataframe tbody tr th {\n",
              "        vertical-align: top;\n",
              "    }\n",
              "\n",
              "    .dataframe thead th {\n",
              "        text-align: right;\n",
              "    }\n",
              "</style>\n",
              "<table border=\"1\" class=\"dataframe\">\n",
              "  <thead>\n",
              "    <tr style=\"text-align: right;\">\n",
              "      <th></th>\n",
              "      <th>head_type</th>\n",
              "      <th>tail_type</th>\n",
              "      <th>triple_list</th>\n",
              "      <th>cluster_list</th>\n",
              "      <th>list_count</th>\n",
              "    </tr>\n",
              "  </thead>\n",
              "  <tbody>\n",
              "    <tr>\n",
              "      <th>0</th>\n",
              "      <td>BACTERIUM</td>\n",
              "      <td>CARDINAL</td>\n",
              "      <td>[meningococci follow 12, meningococci follow 1...</td>\n",
              "      <td>[follow, follow, detect, detect]</td>\n",
              "      <td>4</td>\n",
              "    </tr>\n",
              "    <tr>\n",
              "      <th>1</th>\n",
              "      <td>BACTERIUM</td>\n",
              "      <td>CHEMICAL</td>\n",
              "      <td>[meningococci follow vaccine, meningococci fol...</td>\n",
              "      <td>[follow, follow, induce, induce, recommend, co...</td>\n",
              "      <td>10</td>\n",
              "    </tr>\n",
              "    <tr>\n",
              "      <th>2</th>\n",
              "      <td>BACTERIUM</td>\n",
              "      <td>DISEASE_OR_SYNDROME</td>\n",
              "      <td>[neisseria consider meningococcal disease, men...</td>\n",
              "      <td>[consider, consider, vaccinate, associate, inc...</td>\n",
              "      <td>5</td>\n",
              "    </tr>\n",
              "    <tr>\n",
              "      <th>3</th>\n",
              "      <td>BACTERIUM</td>\n",
              "      <td>GENE_OR_GENOME</td>\n",
              "      <td>[nocebo provide aes, nocebo appear aes, brucel...</td>\n",
              "      <td>[provide, appear, observe, detect, detect]</td>\n",
              "      <td>5</td>\n",
              "    </tr>\n",
              "    <tr>\n",
              "      <th>4</th>\n",
              "      <td>BACTERIUM</td>\n",
              "      <td>ORGANISM</td>\n",
              "      <td>[streptococcus treat serotypes]</td>\n",
              "      <td>[treat]</td>\n",
              "      <td>1</td>\n",
              "    </tr>\n",
              "  </tbody>\n",
              "</table>\n",
              "</div>\n",
              "      <button class=\"colab-df-convert\" onclick=\"convertToInteractive('df-dcff0136-885e-441b-9fc6-b7d3c0873f06')\"\n",
              "              title=\"Convert this dataframe to an interactive table.\"\n",
              "              style=\"display:none;\">\n",
              "        \n",
              "  <svg xmlns=\"http://www.w3.org/2000/svg\" height=\"24px\"viewBox=\"0 0 24 24\"\n",
              "       width=\"24px\">\n",
              "    <path d=\"M0 0h24v24H0V0z\" fill=\"none\"/>\n",
              "    <path d=\"M18.56 5.44l.94 2.06.94-2.06 2.06-.94-2.06-.94-.94-2.06-.94 2.06-2.06.94zm-11 1L8.5 8.5l.94-2.06 2.06-.94-2.06-.94L8.5 2.5l-.94 2.06-2.06.94zm10 10l.94 2.06.94-2.06 2.06-.94-2.06-.94-.94-2.06-.94 2.06-2.06.94z\"/><path d=\"M17.41 7.96l-1.37-1.37c-.4-.4-.92-.59-1.43-.59-.52 0-1.04.2-1.43.59L10.3 9.45l-7.72 7.72c-.78.78-.78 2.05 0 2.83L4 21.41c.39.39.9.59 1.41.59.51 0 1.02-.2 1.41-.59l7.78-7.78 2.81-2.81c.8-.78.8-2.07 0-2.86zM5.41 20L4 18.59l7.72-7.72 1.47 1.35L5.41 20z\"/>\n",
              "  </svg>\n",
              "      </button>\n",
              "      \n",
              "  <style>\n",
              "    .colab-df-container {\n",
              "      display:flex;\n",
              "      flex-wrap:wrap;\n",
              "      gap: 12px;\n",
              "    }\n",
              "\n",
              "    .colab-df-convert {\n",
              "      background-color: #E8F0FE;\n",
              "      border: none;\n",
              "      border-radius: 50%;\n",
              "      cursor: pointer;\n",
              "      display: none;\n",
              "      fill: #1967D2;\n",
              "      height: 32px;\n",
              "      padding: 0 0 0 0;\n",
              "      width: 32px;\n",
              "    }\n",
              "\n",
              "    .colab-df-convert:hover {\n",
              "      background-color: #E2EBFA;\n",
              "      box-shadow: 0px 1px 2px rgba(60, 64, 67, 0.3), 0px 1px 3px 1px rgba(60, 64, 67, 0.15);\n",
              "      fill: #174EA6;\n",
              "    }\n",
              "\n",
              "    [theme=dark] .colab-df-convert {\n",
              "      background-color: #3B4455;\n",
              "      fill: #D2E3FC;\n",
              "    }\n",
              "\n",
              "    [theme=dark] .colab-df-convert:hover {\n",
              "      background-color: #434B5C;\n",
              "      box-shadow: 0px 1px 3px 1px rgba(0, 0, 0, 0.15);\n",
              "      filter: drop-shadow(0px 1px 2px rgba(0, 0, 0, 0.3));\n",
              "      fill: #FFFFFF;\n",
              "    }\n",
              "  </style>\n",
              "\n",
              "      <script>\n",
              "        const buttonEl =\n",
              "          document.querySelector('#df-dcff0136-885e-441b-9fc6-b7d3c0873f06 button.colab-df-convert');\n",
              "        buttonEl.style.display =\n",
              "          google.colab.kernel.accessAllowed ? 'block' : 'none';\n",
              "\n",
              "        async function convertToInteractive(key) {\n",
              "          const element = document.querySelector('#df-dcff0136-885e-441b-9fc6-b7d3c0873f06');\n",
              "          const dataTable =\n",
              "            await google.colab.kernel.invokeFunction('convertToInteractive',\n",
              "                                                     [key], {});\n",
              "          if (!dataTable) return;\n",
              "\n",
              "          const docLinkHtml = 'Like what you see? Visit the ' +\n",
              "            '<a target=\"_blank\" href=https://colab.research.google.com/notebooks/data_table.ipynb>data table notebook</a>'\n",
              "            + ' to learn more about interactive tables.';\n",
              "          element.innerHTML = '';\n",
              "          dataTable['output_type'] = 'display_data';\n",
              "          await google.colab.output.renderOutput(dataTable, element);\n",
              "          const docLink = document.createElement('div');\n",
              "          docLink.innerHTML = docLinkHtml;\n",
              "          element.appendChild(docLink);\n",
              "        }\n",
              "      </script>\n",
              "    </div>\n",
              "  </div>\n",
              "  "
            ]
          },
          "metadata": {},
          "execution_count": 12
        }
      ]
    },
    {
      "cell_type": "code",
      "source": [
        "entity_df['triple_list'] = entity_df['triple_list'].apply(lambda x: x[:8] if len(x)>10 else x)"
      ],
      "metadata": {
        "id": "OoVMFKDozLF2"
      },
      "execution_count": null,
      "outputs": []
    },
    {
      "cell_type": "code",
      "source": [
        "entity_df['cluster_list'] = entity_df['cluster_list'].apply(lambda x: list(set(x[:8])) if len(list(set(x)))>10 else list(set(x)))"
      ],
      "metadata": {
        "id": "PeWqDdrCzcf9"
      },
      "execution_count": null,
      "outputs": []
    },
    {
      "cell_type": "code",
      "source": [
        "len(entity_df)"
      ],
      "metadata": {
        "colab": {
          "base_uri": "https://localhost:8080/"
        },
        "id": "qbUcM839vItD",
        "outputId": "cfa0595d-3a85-4d10-8d3d-3ccd7b133ce8"
      },
      "execution_count": null,
      "outputs": [
        {
          "output_type": "execute_result",
          "data": {
            "text/plain": [
              "459"
            ]
          },
          "metadata": {},
          "execution_count": 15
        }
      ]
    },
    {
      "cell_type": "code",
      "source": [
        "entity_df.to_csv('entity_type_analysis.csv')"
      ],
      "metadata": {
        "id": "2acPeSd8vPyB"
      },
      "execution_count": null,
      "outputs": []
    },
    {
      "cell_type": "code",
      "execution_count": null,
      "metadata": {
        "id": "XYPBd0oci95M",
        "colab": {
          "base_uri": "https://localhost:8080/"
        },
        "outputId": "2a675fc3-4131-45c2-fbce-959384cc6475"
      },
      "outputs": [
        {
          "output_type": "stream",
          "name": "stdout",
          "text": [
            "Estimate runtime:  0.02495257059733073  minutes.\n"
          ]
        }
      ],
      "source": [
        "end_time = time.time()\n",
        "\n",
        "print('Estimate runtime: ', (end_time-start_time)/60, ' minutes.')"
      ]
    },
    {
      "cell_type": "code",
      "source": [
        "### for 5000 sentences\n",
        "\n",
        "# Estimate runtime:  0.19963531891504924  minutes."
      ],
      "metadata": {
        "id": "VJBuaQ666hKY"
      },
      "execution_count": null,
      "outputs": []
    }
  ],
  "metadata": {
    "kernelspec": {
      "display_name": "Python 3",
      "language": "python",
      "name": "python3"
    },
    "language_info": {
      "codemirror_mode": {
        "name": "ipython",
        "version": 3
      },
      "file_extension": ".py",
      "mimetype": "text/x-python",
      "name": "python",
      "nbconvert_exporter": "python",
      "pygments_lexer": "ipython3",
      "version": "3.8.3"
    },
    "colab": {
      "name": "2_entity_type_focus.ipynb",
      "provenance": [],
      "collapsed_sections": []
    }
  },
  "nbformat": 4,
  "nbformat_minor": 0
}